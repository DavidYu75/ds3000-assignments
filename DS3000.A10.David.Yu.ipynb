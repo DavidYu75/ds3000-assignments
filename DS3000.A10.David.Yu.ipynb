{
 "cells": [
  {
   "cell_type": "markdown",
   "metadata": {},
   "source": [
    "# DS 3000 - Assignment 10\n",
    "\n",
    "**Student Name**: David Yu\n",
    "\n",
    "**Date**: 3/19/25\n",
    "\n",
    "\n",
    "### Submission Instructions\n",
    "Submit this `ipynb` file to canvas.\n",
    "\n",
    "The `ipynb` format stores outputs from the last time you ran the notebook.  (When you open a notebook it has the figures and outputs of the last time you ran it too).  To ensure that your submitted `ipynb` file represents your latest code, make sure to give a fresh run `Kernel > Restart & Run All` just before uploading the `ipynb` file to Canvas.\n",
    "\n",
    "### Academic Integrity\n",
    "\n",
    "**Writing your homework is an individual effort.**  You may discuss general python problems with other students but under no circumstances should you observe another student's code which was written for this assignment, from this year or past years.  Pop into office hours or DM us in MS Teams if you have a specific question about your work or if you would like another pair of eyes or talk through your code.\n",
    "\n",
    "Don't forget to cite websites which helped you solve a problem in a unique way.  You can do this in markdown near the code or with a simple one-line comment. You do not need to cite the official python documentation.\n",
    "\n",
    "**Documentation / style counts for credit**  Please refer to the Pep-8 style, to improve the readability and consistency of your Python code. For more information, read the following article [How to Write Beautiful Python Code With PEP 8](https://realpython.com/python-pep8/) or ask your TA's for tips.\n",
    "\n",
    "**NOTE:<span style='color:red'> Write python expressions to answer ALL questions below and ensure that you use the `print()` function to display the output.</span>** Each question should be answered in a new code cell. For example, your solution for question 1.1 should be in a different code cell from your solution for question 1.2."
   ]
  },
  {
   "cell_type": "markdown",
   "metadata": {},
   "source": [
    "## Question 1: \n",
    "\n",
    "load the data directly from the URL into a DataFrame.\n"
   ]
  },
  {
   "cell_type": "code",
   "execution_count": 3,
   "metadata": {},
   "outputs": [],
   "source": [
    "import pandas as pd\n",
    "import numpy as np\n",
    "import matplotlib.pyplot as plt\n",
    "import seaborn as sns\n",
    "from scipy import stats"
   ]
  },
  {
   "cell_type": "code",
   "execution_count": 2,
   "metadata": {},
   "outputs": [
    {
     "name": "stdout",
     "output_type": "stream",
     "text": [
      "   case  bwt  gestation  parity   age  height  weight  smoke\n",
      "0     1  120      284.0       0  27.0    62.0   100.0    0.0\n",
      "1     2  113      282.0       0  33.0    64.0   135.0    0.0\n",
      "2     3  128      279.0       0  28.0    64.0   115.0    1.0\n",
      "3     4  123        NaN       0  36.0    69.0   190.0    0.0\n",
      "4     5  108      282.0       0  23.0    67.0   125.0    1.0\n"
     ]
    }
   ],
   "source": [
    "url = \"https://drive.google.com/uc?id=145n4_o1g5ZMrnV_DZt8tR9rjZLlJvU5K\"\n",
    "df = pd.read_csv(url)\n",
    "\n",
    "print(df.head())"
   ]
  },
  {
   "cell_type": "markdown",
   "metadata": {},
   "source": [
    "## Question 2: (10 pts) Data Prep & EDA\n",
    "Prepare the data for analysis. Ensure that you address the following:\n",
    "- Perform EDA using the dataset to demonstrate patterns.\n",
    "- Handle any missing data and invalid data. Justify your approach.\n",
    "- Plot a histogram of the birth weight and explain the overall distribution. \n"
   ]
  },
  {
   "cell_type": "code",
   "execution_count": 6,
   "metadata": {},
   "outputs": [
    {
     "name": "stdout",
     "output_type": "stream",
     "text": [
      "Dataset shape: (1236, 8)\n",
      "\n",
      "First 5 rows:\n",
      "   case  bwt  gestation  parity   age  height  weight  smoke\n",
      "0     1  120      284.0       0  27.0    62.0   100.0    0.0\n",
      "1     2  113      282.0       0  33.0    64.0   135.0    0.0\n",
      "2     3  128      279.0       0  28.0    64.0   115.0    1.0\n",
      "3     4  123        NaN       0  36.0    69.0   190.0    0.0\n",
      "4     5  108      282.0       0  23.0    67.0   125.0    1.0\n",
      "\n",
      "Missing values before cleaning:\n",
      "case          0\n",
      "bwt           0\n",
      "gestation    13\n",
      "parity        0\n",
      "age           2\n",
      "height       22\n",
      "weight       36\n",
      "smoke        10\n",
      "dtype: int64\n",
      "\n",
      "Missing values after NA conversion:\n",
      "case          0\n",
      "bwt           0\n",
      "gestation    13\n",
      "parity        0\n",
      "age           2\n",
      "height       22\n",
      "weight       36\n",
      "smoke        10\n",
      "dtype: int64\n",
      "\n",
      "Summary statistics:\n",
      "          case      bwt  gestation   parity      age   height   weight  \\\n",
      "count  1236.00  1236.00    1223.00  1236.00  1234.00  1214.00  1200.00   \n",
      "mean    618.50   119.58     279.34     0.25    27.26    64.05   128.63   \n",
      "std     356.95    18.24      16.03     0.44     5.78     2.53    20.97   \n",
      "min       1.00    55.00     148.00     0.00    15.00    53.00    87.00   \n",
      "25%     309.75   108.75     272.00     0.00    23.00    62.00   114.75   \n",
      "50%     618.50   120.00     280.00     0.00    26.00    64.00   125.00   \n",
      "75%     927.25   131.00     288.00     1.00    31.00    66.00   139.00   \n",
      "max    1236.00   176.00     353.00     1.00    45.00    72.00   250.00   \n",
      "\n",
      "         smoke  \n",
      "count  1226.00  \n",
      "mean      0.39  \n",
      "std       0.49  \n",
      "min       0.00  \n",
      "25%       0.00  \n",
      "50%       0.00  \n",
      "75%       1.00  \n",
      "max       1.00  \n"
     ]
    }
   ],
   "source": [
    "print(\"Dataset shape:\", df.shape)\n",
    "print(\"\\nFirst 5 rows:\")\n",
    "print(df.head())\n",
    "\n",
    "print(\"\\nMissing values before cleaning:\")\n",
    "print(df.isna().sum())\n",
    "\n",
    "df = df.replace(\"NA\", np.nan)\n",
    "\n",
    "# Convert all columns to appropriate data types\n",
    "for col in df.columns:\n",
    "    if col != 'case':\n",
    "        df[col] = pd.to_numeric(df[col], errors='coerce')\n",
    "\n",
    "print(\"\\nMissing values after NA conversion:\")\n",
    "print(df.isna().sum())\n",
    "\n",
    "print(\"\\nSummary statistics:\")\n",
    "print(df.describe().round(2))"
   ]
  },
  {
   "cell_type": "code",
   "execution_count": null,
   "metadata": {},
   "outputs": [
    {
     "name": "stdout",
     "output_type": "stream",
     "text": [
      "\n",
      "Missing values after imputation:\n",
      "case         0\n",
      "bwt          0\n",
      "gestation    0\n",
      "parity       0\n",
      "age          0\n",
      "height       0\n",
      "weight       0\n",
      "smoke        0\n",
      "dtype: int64\n"
     ]
    }
   ],
   "source": [
    "df_clean = df.copy()\n",
    "\n",
    "# Impute missing values with median for each column\n",
    "for col in df_clean.columns:\n",
    "    if col != 'case' and df_clean[col].isna().sum() > 0:\n",
    "        median_val = df_clean[col].median()\n",
    "        df_clean[col] = df_clean[col].fillna(median_val)\n",
    "\n",
    "print(\"\\nMissing values after imputation:\")\n",
    "print(df_clean.isna().sum())"
   ]
  },
  {
   "cell_type": "markdown",
   "metadata": {},
   "source": [
    "### Handling Missing and Invalid Data\n",
    "1. Identifying missing values that were represented as \"NA\" strings as proper null values. I converted all them to NaN. This allows use to standardize our representation of missing values and it allows for proper handling by pandas.\n",
    "2. Imputing missing values with the median of each respective column. I chose to use medians because:\n",
    "- Medians are less likely to be affected by extreme outliers, unlike means.\n",
    "- Medians maintain the overall distribution shape of the data better than mode imputation.\n",
    "3. Using panda's pd.to_numeric() with errors='coerce' parameter for any potential invalid data types. This will convert any non-numeric values to NaN and ensures consistent data types across all feature columns."
   ]
  },
  {
   "cell_type": "code",
   "execution_count": 14,
   "metadata": {},
   "outputs": [
    {
     "data": {
      "image/png": "[encoded data removed]",
      "text/plain": [
       "<Figure size 800x500 with 1 Axes>"
      ]
     },
     "metadata": {},
     "output_type": "display_data"
    }
   ],
   "source": [
    "# Birth weight distribution\n",
    "plt.figure(figsize=(8, 5))\n",
    "plt.hist(df['bwt'].dropna(), bins=20, color='skyblue', edgecolor='black')\n",
    "plt.title('Distribution of Birth Weight')\n",
    "plt.xlabel('Birth Weight (ounces)')\n",
    "plt.ylabel('Frequency')\n",
    "plt.axvline(df['bwt'].mean(), color='red', linestyle='--', label=f'Mean: {df[\"bwt\"].mean():.2f}')\n",
    "plt.axvline(df['bwt'].median(), color='green', linestyle='--', label=f'Median: {df[\"bwt\"].median():.2f}')\n",
    "plt.legend()\n",
    "plt.tight_layout()\n",
    "plt.show()"
   ]
  },
  {
   "cell_type": "markdown",
   "metadata": {},
   "source": [
    "- Birth weights are approximately normally distributed. The mean of 119.58 ounces and the median of 120 ounces are very close to each other, showing that there is minimal skew.\n",
    "- Most babies have a weight of 100 - 140 ounces, which is typical healthy birht weight for babies.\n",
    "- Overall, this distribution reflects expected patterns of birth weights in a general population. There is no extremes or concerning outliers."
   ]
  },
  {
   "cell_type": "markdown",
   "metadata": {},
   "source": [
    "## Question 3: (5 pts) Feature Selection\n",
    "Demonstrate which features are useful to build the model. Briefly explain the reason for the features that you selected. Note: You can explore correlations, test hypothesis and/or other techniques. Remember that Data Science relies heavily on experimentation. Therefore, you are encouraged to experiment with your data.\n",
    "- Tip #1: ensure that you carefully consider each feature and share the pros and cons of your decisions.\n",
    "- Tip #2: you are predicting the birth weight, therefore it should not be one of your explanatory variables."
   ]
  },
  {
   "cell_type": "code",
   "execution_count": null,
   "metadata": {},
   "outputs": [],
   "source": []
  },
  {
   "cell_type": "markdown",
   "metadata": {},
   "source": [
    "## Helpful resources \n",
    "Don't forget to cite websites which helped you solve a problem in a unique way.  You can do this in markdown near the code or with a simple one-line comment inside the code cell, or you can list them below. \n",
    "\n",
    "You do not need to cite the official python documentation.\n"
   ]
  }
 ],
 "metadata": {
  "kernelspec": {
   "display_name": "base",
   "language": "python",
   "name": "python3"
  },
  "language_info": {
   "codemirror_mode": {
    "name": "ipython",
    "version": 3
   },
   "file_extension": ".py",
   "mimetype": "text/x-python",
   "name": "python",
   "nbconvert_exporter": "python",
   "pygments_lexer": "ipython3",
   "version": "3.12.7"
  }
 },
 "nbformat": 4,
 "nbformat_minor": 4
}
