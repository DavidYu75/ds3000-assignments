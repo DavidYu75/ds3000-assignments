{
 "cells": [
  {
   "cell_type": "markdown",
   "metadata": {},
   "source": [
    "# DS 3000 - Assignment 3\n",
    "\n",
    "**Student Name**: [David Yu]\n",
    "\n",
    "**Date**: [1/22/25]\n",
    "\n",
    "\n",
    "### Submission Instructions\n",
    "Submit this `ipynb` file to canvas.\n",
    "\n",
    "The `ipynb` format stores outputs from the last time you ran the notebook.  (When you open a notebook it has the figures and outputs of the last time you ran it too).  To ensure that your submitted `ipynb` file represents your latest code, make sure to give a fresh run `Kernel > Restart & Run All` just before uploading the `ipynb` file to Canvas.\n",
    "\n",
    "### Academic Integrity\n",
    "\n",
    "**Writing your homework is an individual effort.**  You may discuss general python problems with other students but under no circumstances should you observe another student's code which was written for this assignment, from this year or past years.  Pop into office hours or DM us in MS Teams if you have a specific question about your work or if you would like another pair of eyes or talk through your code.\n",
    "\n",
    "Don't forget to cite websites which helped you solve a problem in a unique way.  You can do this in markdown near the code or with a simple one-line comment. You do not need to cite the official python documentation.\n",
    "\n",
    "**Documentation / style counts for credit**  Please refer to the Pep-8 style, to improve the readability and consistency of your Python code. For more information, read the following article [How to Write Beautiful Python Code With PEP 8](https://realpython.com/python-pep8/) or ask your TA's for tips.\n",
    "\n",
    "**NOTE:<span style='color:red'> Write python expressions to answer ALL questions below and ensure that you use the `print()` function to display the output.</span>** Each question should be answered in a new code cell. For example, your solution for question 1.1 should be in a different code cell from your solution for question 1.2."
   ]
  },
  {
   "cell_type": "code",
   "execution_count": null,
   "metadata": {},
   "outputs": [],
   "source": []
  },
  {
   "cell_type": "markdown",
   "metadata": {},
   "source": [
    "## Data Science Problem (50 pts)\n",
    "### Instructions\n",
    "\n",
    "You are hired as a Data Scientist for the NYC Taxi and Limousine Commission (TLC) and this company routinely collects trip data from all licensed cabs in NY. Your team would like to use this data in the future to understand how New Yorkers use these taxis. Your first assignment is to **analyze the data of the Green Taxis, and determine if its a viable source.**\n",
    "\n",
    "Your supervisor has requested that you perform your analysis using data from December 2023 and would like for you to present your findings during the next team meeting. Use a Jupyter notebook to explain your data wrangling and analytical steps to your colleagues. \n",
    "\n",
    "**Data & Documentation**\n",
    "\n",
    "- **Data Source:** https://d37ci6vzurychx.cloudfront.net/trip-data/green_tripdata_2023-12.parquet\n",
    "- **Data Dictionary:** [Green Trips Data Dictionary](https://www1.nyc.gov/assets/tlc/downloads/pdf/data_dictionary_trip_records_green.pdf).\n",
    "\n",
    "The TLC trip record data and a description of the initiative can be found at the following link: https://www1.nyc.gov/site/tlc/about/tlc-trip-record-data.page\n",
    "\n",
    "**`Note:`** Ensure that you explain the results from each question.\n",
    "\n",
    "\n",
    "**In this assignment you will use the Pandas library. Pandas allows us to load data that's stored in a various formats, e.g. excel, csv, txt, parquet, etc. In this assignment, you will learn to read data in parquet format which is one of the preferred formats when working with `Big Data`. [Click here to learn more about parquet files](https://towardsdatascience.com/csv-files-for-storage-no-thanks-theres-a-better-option-72c78a414d1d)**\n",
    "\n",
    "I also provided starter code below to help you to read the data in parquet format. First, you'll need to install a new library called *fastparquet*."
   ]
  },
  {
   "cell_type": "code",
   "execution_count": 10,
   "metadata": {},
   "outputs": [
    {
     "name": "stdout",
     "output_type": "stream",
     "text": [
      "Requirement already satisfied: fastparquet in /opt/homebrew/lib/python3.11/site-packages (2024.11.0)\n",
      "Requirement already satisfied: pandas>=1.5.0 in /opt/homebrew/lib/python3.11/site-packages (from fastparquet) (2.2.3)\n",
      "Requirement already satisfied: numpy in /opt/homebrew/lib/python3.11/site-packages (from fastparquet) (2.2.1)\n",
      "Requirement already satisfied: cramjam>=2.3 in /opt/homebrew/lib/python3.11/site-packages (from fastparquet) (2.9.1)\n",
      "Requirement already satisfied: fsspec in /opt/homebrew/lib/python3.11/site-packages (from fastparquet) (2024.12.0)\n",
      "Requirement already satisfied: packaging in /Users/davidyu/Library/Python/3.11/lib/python/site-packages (from fastparquet) (24.2)\n",
      "Requirement already satisfied: python-dateutil>=2.8.2 in /Users/davidyu/Library/Python/3.11/lib/python/site-packages (from pandas>=1.5.0->fastparquet) (2.9.0.post0)\n",
      "Requirement already satisfied: pytz>=2020.1 in /opt/homebrew/lib/python3.11/site-packages (from pandas>=1.5.0->fastparquet) (2024.2)\n",
      "Requirement already satisfied: tzdata>=2022.7 in /opt/homebrew/lib/python3.11/site-packages (from pandas>=1.5.0->fastparquet) (2025.1)\n",
      "Requirement already satisfied: six>=1.5 in /Users/davidyu/Library/Python/3.11/lib/python/site-packages (from python-dateutil>=2.8.2->pandas>=1.5.0->fastparquet) (1.17.0)\n",
      "Note: you may need to restart the kernel to use updated packages.\n"
     ]
    }
   ],
   "source": [
    "#run this cell to install the fast parquet library\n",
    "%pip install fastparquet"
   ]
  },
  {
   "cell_type": "code",
   "execution_count": null,
   "metadata": {},
   "outputs": [],
   "source": []
  },
  {
   "cell_type": "markdown",
   "metadata": {},
   "source": [
    "## 1. Load the data\n",
    "Load the NYC Green Taxi Trip Records data directly from the URL into a data frame called tripdata_df. "
   ]
  },
  {
   "cell_type": "code",
   "execution_count": 26,
   "metadata": {},
   "outputs": [],
   "source": [
    "#let's load the data into a dataframe\n",
    "\n",
    "tripdata_df = pd.read_parquet(path = 'https://d37ci6vzurychx.cloudfront.net/trip-data/green_tripdata_2023-12.parquet', engine = 'fastparquet')\n",
    "\n",
    "#Note: you'll notice two new things. 1) We are using a new function called `read_parquet()` which indicates that we are \n",
    "#      reading data in parquet format. 2) We used the fastparquet library as the engine. \n",
    "#      That's it! Pandas will load the data into a dataframe. You can now use the dataframe for EDA.\n",
    "\n",
    "# Reminder: How does Pandas read other file formats?\n",
    "# 1. Excel files: pd.read_excel()\n",
    "# 2. CSV Files: pd.read_csv()\n",
    "# ... and now you know how to read parquet files using pd.read_parquet()\n"
   ]
  },
  {
   "cell_type": "markdown",
   "metadata": {},
   "source": [
    "## 2. Inspect the Data (5 pts) \n",
    "Inspect the data and perform the following: \n",
    "1. display the dimensions, and indicate if the variables have suitable types.\n",
    "2. convert all variables to suitable types\n",
    "\n",
    "*Tip*:  Think about whether the data type is accurate for the field. Refer to the data dictionary and review sample values in the dataframe before converting types. **Demonstrate ALL steps.**"
   ]
  },
  {
   "cell_type": "code",
   "execution_count": 27,
   "metadata": {},
   "outputs": [
    {
     "name": "stdout",
     "output_type": "stream",
     "text": [
      "DataFrame Dimensions:\n",
      "Rows: 64215\n",
      "Columns: 20\n",
      "\n",
      "Initial Data Types:\n",
      "VendorID                        float64\n",
      "lpep_pickup_datetime     datetime64[us]\n",
      "lpep_dropoff_datetime    datetime64[us]\n",
      "store_and_fwd_flag               object\n",
      "RatecodeID                      float64\n",
      "PULocationID                    float64\n",
      "DOLocationID                    float64\n",
      "passenger_count                 float64\n",
      "trip_distance                   float64\n",
      "fare_amount                     float64\n",
      "extra                           float64\n",
      "mta_tax                         float64\n",
      "tip_amount                      float64\n",
      "tolls_amount                    float64\n",
      "ehail_fee                       float64\n",
      "improvement_surcharge           float64\n",
      "total_amount                    float64\n",
      "payment_type                    float64\n",
      "trip_type                       float64\n",
      "congestion_surcharge            float64\n",
      "dtype: object\n",
      "Suitable types:\n",
      "- lpep_pickup_datetime, lpep_dropoff_datetime (datetime64[us]): Suitable for timestamps\n",
      "- trip_distance (float64): Suitable for distances with decimals\n",
      "- fare_amount, extra, mta_tax, tip_amount, tolls_amount, ehail_fee, improvement_surcharge, total_amount, congestion_surcharge (float64): Suitable for money amount with cents\n",
      "\n",
      "Needs conversion:\n",
      "- ID columns (float64): Should be Int64 for categorical identifiers\n",
      "- passenger_count (float64): Should be Int64 for whole numbers\n",
      "- store_and_fwd_flag (object): Should be category\n",
      "- payment_type, trip_type (float64): Should be category\n"
     ]
    }
   ],
   "source": [
    "# 1. display the dimensions, and indicate if the variables have suitable types.\n",
    "print(\"DataFrame Dimensions:\")\n",
    "print(f\"Rows: {tripdata_df.shape[0]}\")\n",
    "print(f\"Columns: {tripdata_df.shape[1]}\")\n",
    "\n",
    "print(\"\\nInitial Data Types:\")\n",
    "print(tripdata_df.dtypes)\n",
    "\n",
    "print(\"Suitable types:\")\n",
    "print(\"- lpep_pickup_datetime, lpep_dropoff_datetime (datetime64[us]): Suitable for timestamps\")\n",
    "print(\"- trip_distance (float64): Suitable for distances with decimals\")\n",
    "print(\"- fare_amount, extra, mta_tax, tip_amount, tolls_amount, ehail_fee, improvement_surcharge, total_amount, congestion_surcharge (float64): Suitable for money amount with cents\")\n",
    "print(\"\\nNeeds conversion:\")\n",
    "print(\"- ID columns (float64): Should be Int64 for categorical identifiers\")\n",
    "print(\"- passenger_count (float64): Should be Int64 for whole numbers\")\n",
    "print(\"- store_and_fwd_flag (object): Should be category\")\n",
    "print(\"- payment_type, trip_type (float64): Should be category\")"
   ]
  },
  {
   "cell_type": "code",
   "execution_count": 28,
   "metadata": {},
   "outputs": [
    {
     "name": "stdout",
     "output_type": "stream",
     "text": [
      "\n",
      "Converted Data Types:\n",
      "VendorID                          Int64\n",
      "lpep_pickup_datetime     datetime64[us]\n",
      "lpep_dropoff_datetime    datetime64[us]\n",
      "store_and_fwd_flag             category\n",
      "RatecodeID                        Int64\n",
      "PULocationID                      Int64\n",
      "DOLocationID                      Int64\n",
      "passenger_count                   Int64\n",
      "trip_distance                   float64\n",
      "fare_amount                     float64\n",
      "extra                           float64\n",
      "mta_tax                         float64\n",
      "tip_amount                      float64\n",
      "tolls_amount                    float64\n",
      "ehail_fee                       float64\n",
      "improvement_surcharge           float64\n",
      "total_amount                    float64\n",
      "payment_type                   category\n",
      "trip_type                      category\n",
      "congestion_surcharge            float64\n",
      "dtype: object\n"
     ]
    }
   ],
   "source": [
    "# 2. convert all variables to suitable types\n",
    "# Integer columns\n",
    "int_columns = ['VendorID', 'RatecodeID', 'PULocationID', 'DOLocationID', 'passenger_count']\n",
    "for col in int_columns:\n",
    "    tripdata_df[col] = tripdata_df[col].astype('Int64')\n",
    "\n",
    "# Categorical columns\n",
    "cat_columns = ['store_and_fwd_flag', 'payment_type', 'trip_type']\n",
    "for col in cat_columns:\n",
    "    tripdata_df[col] = tripdata_df[col].astype('category')\n",
    "\n",
    "print(\"\\nConverted Data Types:\")\n",
    "print(tripdata_df.dtypes)"
   ]
  },
  {
   "cell_type": "markdown",
   "metadata": {},
   "source": [
    "## 3. Types of Data (2 pts) \n",
    "Are there any categorical data in this dataset. If they exist, **demonstrate** at least two categorical variables and indicate if they are **nominal** or **ordinal** (hint: read the data dictionary above which describes all fields in the data)\n",
    "\n",
    "*Tip*: Justify why you classified each field as categorical. Provide your reasoning and the evidence to support your decision based on values in the data."
   ]
  },
  {
   "cell_type": "code",
   "execution_count": 31,
   "metadata": {},
   "outputs": [
    {
     "name": "stdout",
     "output_type": "stream",
     "text": [
      "Categorical data does exist in this dataset.\n",
      "store_and_fwd_flag:\n",
      "['N', 'Y', NaN]\n",
      "Categories (2, object): ['N', 'Y']\n",
      "store_and_fwd_flag is categorical data. It is nominal as it only takes in two values, 'Y' and 'N'. It represents whether the trip record was stored in vehicle memory before sending to the server.\n",
      "\n",
      "payment_type unique values:\n",
      "[1.0, 2.0, 3.0, 4.0, NaN]\n",
      "Categories (4, float64): [1.0, 2.0, 3.0, 4.0]\n",
      "payment_type is categorical data. It is nominal as it only takes in four values, 1, 2, 3, and 4. It represents the payment method used for the trip.\n"
     ]
    }
   ],
   "source": [
    "print(\"Categorical data does exist in this dataset.\")\n",
    "\n",
    "print(\"store_and_fwd_flag:\")\n",
    "print(tripdata_df['store_and_fwd_flag'].unique())\n",
    "print(\"store_and_fwd_flag is categorical data. It is nominal as it only takes in two values, 'Y' and 'N'. It represents whether the trip record was stored in vehicle memory before sending to the server.\")\n",
    "\n",
    "print(\"\\npayment_type unique values:\")\n",
    "print(tripdata_df['payment_type'].unique())\n",
    "print(\"payment_type is categorical data. It is nominal as it only takes in four values, 1, 2, 3, and 4. It represents the payment method used for the trip.\")"
   ]
  },
  {
   "cell_type": "markdown",
   "metadata": {},
   "source": [
    "## 4. Missing Values (10 pts) \n",
    "Evaluate the frequency of missing values in the dataset and perform the following:\n",
    "1. explain if missing values are an isolated case or a widespread issue? \n",
    "2. what method would you recommend to handle missing data?\n",
    "3. write the suitable code to handle the missing values.\n",
    "\n",
    "*Tip*: When handling missing values, evaluate the row-wise and column-wise data to make informed decisions regarding which approach is suitable. When in doubt, review the Canvas lectures & readings for guidance."
   ]
  },
  {
   "cell_type": "code",
   "execution_count": 48,
   "metadata": {},
   "outputs": [
    {
     "name": "stdout",
     "output_type": "stream",
     "text": [
      "Missing Values\n",
      "\n",
      "Absolute count of missing values:\n",
      "store_and_fwd_flag       4912\n",
      "RatecodeID               4912\n",
      "passenger_count          4912\n",
      "ehail_fee               64215\n",
      "payment_type             4912\n",
      "trip_type                4914\n",
      "congestion_surcharge     4912\n",
      "dtype: int64\n",
      "\n",
      "Percentage of missing values:\n",
      "store_and_fwd_flag        7.649303\n",
      "RatecodeID                7.649303\n",
      "passenger_count           7.649303\n",
      "ehail_fee               100.000000\n",
      "payment_type              7.649303\n",
      "trip_type                 7.652418\n",
      "congestion_surcharge      7.649303\n",
      "dtype: float64\n",
      "\n",
      "Rows with at least one missing value: 64215\n",
      "Percentage of rows with missing values: 100.00%\n",
      "\n",
      "This is a widespread issue because:\n",
      "1. All rows have at least one missing value\n",
      "2. ehail_fee column has 100% missing values\n",
      "3. Seven other columns have ~7.65% missing values each:\n",
      "- store_and_fwd_flag\n",
      "- RatecodeID\n",
      "- passenger_count\n",
      "- payment_type\n",
      "- trip_type\n",
      "- congestion_surcharge\n",
      "\n",
      "Recommended method to handle missing data:\n",
      "1. For ehail_fee (100% missing), we can drop this column as it contains no information.\n",
      "\n",
      "2. For columns with ~7.65% missing values, we cab:\n",
      "- Numeric columns (passenger_count, congestion_surcharge): Use median imputation\n",
      "- Categorical columns: Create a 'Missing' category\n",
      "\n",
      "Handling missing values:\n",
      "\n",
      "Remaining missing values after cleaning:\n",
      "store_and_fwd_flag     4912\n",
      "RatecodeID            64215\n",
      "payment_type          64215\n",
      "trip_type             64215\n",
      "dtype: int64\n"
     ]
    }
   ],
   "source": [
    "# 1. explain if missing values are an isolated case or a widespread issue?\n",
    "missing_values = tripdata_df.isnull().sum()\n",
    "missing_percentages = (tripdata_df.isnull().sum() / len(tripdata_df)) * 100\n",
    "\n",
    "print(\"Missing Values\")\n",
    "print(\"\\nAbsolute count of missing values:\")\n",
    "print(missing_values[missing_values > 0])\n",
    "print(\"\\nPercentage of missing values:\")\n",
    "print(missing_percentages[missing_percentages > 0])\n",
    "\n",
    "# Check rows with missing values\n",
    "rows_with_missing = tripdata_df.isnull().any(axis=1).sum()\n",
    "print(f\"\\nRows with at least one missing value: {rows_with_missing}\")\n",
    "print(f\"Percentage of rows with missing values: {(rows_with_missing/len(tripdata_df))*100:.2f}%\")\n",
    "\n",
    "print(\"\\nThis is a widespread issue because:\")\n",
    "print(\"1. All rows have at least one missing value\")\n",
    "print(\"2. ehail_fee column has 100% missing values\")\n",
    "print(\"3. Seven other columns have ~7.65% missing values each:\")\n",
    "print(\"- store_and_fwd_flag\")\n",
    "print(\"- RatecodeID\")\n",
    "print(\"- passenger_count\")\n",
    "print(\"- payment_type\")\n",
    "print(\"- trip_type\")\n",
    "print(\"- congestion_surcharge\")\n",
    "\n",
    "# 2. what method would you recommend to handle missing data?\n",
    "print(\"\\nRecommended method to handle missing data:\")\n",
    "print(\"1. For ehail_fee (100% missing), we can drop this column as it contains no information.\")\n",
    "print(\"\\n2. For columns with ~7.65% missing values, we cab:\")\n",
    "print(\"- Numeric columns (passenger_count, congestion_surcharge): Use median imputation\")\n",
    "print(\"- Categorical columns: Create a 'Missing' category\")\n",
    "\n",
    "# 3. Code to handle missing values\n",
    "print(\"\\nHandling missing values:\")\n",
    "\n",
    "# Create a copy for cleaning\n",
    "cleaned_df = tripdata_df.copy()\n",
    "\n",
    "# Drop ehail_fee column (100% missing)\n",
    "cleaned_df = cleaned_df.drop('ehail_fee', axis=1)\n",
    "\n",
    "# Handle numeric columns with median imputation\n",
    "numeric_cols = ['passenger_count', 'congestion_surcharge']\n",
    "for col in numeric_cols:\n",
    "   if col in cleaned_df.columns:\n",
    "       median_value = cleaned_df[col].median()\n",
    "       cleaned_df[col] = cleaned_df[col].fillna(median_value)\n",
    "\n",
    "# Handle categorical columns\n",
    "categorical_cols = ['store_and_fwd_flag', 'payment_type', 'trip_type', 'RatecodeID']\n",
    "for col in categorical_cols:\n",
    "   if col in cleaned_df.columns:\n",
    "       existing_categories = cleaned_df[col].dropna().unique()\n",
    "       new_categories = list(existing_categories) + ['Missing']\n",
    "       cleaned_df[col] = cleaned_df[col].astype(str).fillna('Missing')\n",
    "       cleaned_df[col] = pd.Categorical(cleaned_df[col], categories=new_categories)\n",
    "\n",
    "print(\"\\nRemaining missing values after cleaning:\")\n",
    "print(cleaned_df.isnull().sum()[cleaned_df.isnull().sum() > 0])"
   ]
  },
  {
   "cell_type": "markdown",
   "metadata": {},
   "source": [
    "## 5. Invalid Data (10 pts) \n",
    "Explore the data to determine if there are any invalid values and perform the following: \n",
    "1. demonstrate at least three issues that you found. **`NOTE`: The issues that you found should not include any aspects from the previous questions.**\n",
    "2. write suitable code to handle the invalid data that you found."
   ]
  },
  {
   "cell_type": "code",
   "execution_count": 54,
   "metadata": {},
   "outputs": [
    {
     "name": "stdout",
     "output_type": "stream",
     "text": [
      "1. Invalid Trip Distances:\n",
      "Zero distances: 3274\n",
      "Negative distances: 0\n",
      "\n",
      "2. Time Inconsistencies:\n",
      "Trips with negative duration: 0\n",
      "Trips with zero duration: 85\n",
      "\n",
      "3. Negative Values in Monetary Columns:\n",
      "fare_amount: 189 negative values\n",
      "extra: 87 negative values\n",
      "mta_tax: 160 negative values\n",
      "tip_amount: 4 negative values\n",
      "total_amount: 190 negative values\n",
      "congestion_surcharge: 6 negative values\n",
      "\n",
      "Cleaning Results:\n",
      "Remaining negative monetary values: 0\n",
      "Remaining negative distances: 0\n",
      "Remaining negative durations: 0\n"
     ]
    }
   ],
   "source": [
    "# 1. demonstrate at least three issues that you found.\n",
    "# Check for zero or negative trip distances\n",
    "print(\"1. Invalid Trip Distances:\")\n",
    "print(f\"Zero distances: {(tripdata_df['trip_distance'] == 0).sum()}\")\n",
    "print(f\"Negative distances: {(tripdata_df['trip_distance'] < 0).sum()}\")\n",
    "\n",
    "# Check for logical time inconsistencies\n",
    "print(\"\\n2. Time Inconsistencies:\")\n",
    "time_diff = (tripdata_df['lpep_dropoff_datetime'] - tripdata_df['lpep_pickup_datetime']).dt.total_seconds()\n",
    "negative_time = (time_diff < 0).sum()\n",
    "zero_time = (time_diff == 0).sum()\n",
    "print(f\"Trips with negative duration: {negative_time}\")\n",
    "print(f\"Trips with zero duration: {zero_time}\")\n",
    "\n",
    "# Check for negative values in monetary columns\n",
    "print(\"\\n3. Negative Values in Monetary Columns:\")\n",
    "monetary_cols = ['fare_amount', 'extra', 'mta_tax', 'tip_amount', 'tolls_amount', \n",
    "               'total_amount', 'congestion_surcharge']\n",
    "for col in monetary_cols:\n",
    "   neg_count = (tripdata_df[col] < 0).sum()\n",
    "   if neg_count > 0:\n",
    "       print(f\"{col}: {neg_count} negative values\")\n",
    "\n",
    "# 2. write suitable code to handle the invalid data that you found\n",
    "for col in monetary_cols:\n",
    "   cleaned_df[col] = cleaned_df[col].apply(lambda x: abs(x) if x < 0 else x)\n",
    "\n",
    "# Handle invalid trip distances\n",
    "cleaned_df.loc[cleaned_df['trip_distance'] < 0, 'trip_distance'] = None\n",
    "cleaned_df['zero_distance_flag'] = cleaned_df['trip_distance'] == 0\n",
    "\n",
    "# Handle time inconsistencies\n",
    "cleaned_df['trip_duration'] = (cleaned_df['lpep_dropoff_datetime'] - \n",
    "                            cleaned_df['lpep_pickup_datetime']).dt.total_seconds()\n",
    "cleaned_df['invalid_time_flag'] = cleaned_df['trip_duration'] <= 0\n",
    "\n",
    "# Handle negative durations\n",
    "mask = cleaned_df['trip_duration'] < 0\n",
    "temp_pickup = cleaned_df.loc[mask, 'lpep_pickup_datetime'].copy()\n",
    "cleaned_df.loc[mask, 'lpep_pickup_datetime'] = cleaned_df.loc[mask, 'lpep_dropoff_datetime']\n",
    "cleaned_df.loc[mask, 'lpep_dropoff_datetime'] = temp_pickup\n",
    "\n",
    "cleaned_df['trip_duration'] = (cleaned_df['lpep_dropoff_datetime'] - \n",
    "                            cleaned_df['lpep_pickup_datetime']).dt.total_seconds()\n",
    "\n",
    "# Verify results\n",
    "print(\"\\nCleaning Results:\")\n",
    "print(\"Remaining negative monetary values:\", \n",
    "     sum(cleaned_df[monetary_cols].lt(0).sum()))\n",
    "print(\"Remaining negative distances:\", \n",
    "     (cleaned_df['trip_distance'] < 0).sum())\n",
    "print(\"Remaining negative durations:\", \n",
    "     (cleaned_df['trip_duration'] < 0).sum())\n"
   ]
  },
  {
   "cell_type": "markdown",
   "metadata": {},
   "source": [
    "<span style='color:red'>**Answer the following questions using the prepared data.**</span>"
   ]
  },
  {
   "cell_type": "markdown",
   "metadata": {},
   "source": [
    "## 6. Data Visualization (12 pts) \n",
    "Create bar charts that show the following: \n",
    "1. the most common way that New Yorkers request/hail a cab. \n",
    "2. the data **for each week** to determine if there are patterns in the frequency of trips based on the day of the week (i.e. Sun to Sat).\n",
    "3. the most common pick-up locations (display the top 5 locations). \n",
    "4. the most common drop-off locations (display the top 5 locations). \n",
    "\n",
    "Explain each chart.\n",
    "\n",
    "*`TIP`: If the answers from your analysis in this question contains erroneous or invalid numeric values, this means that the data needs to be cleaned to ensure that the analytical results are coherent.*"
   ]
  },
  {
   "cell_type": "code",
   "execution_count": 111,
   "metadata": {},
   "outputs": [
    {
     "name": "stdout",
     "output_type": "stream",
     "text": [
      "This bar chart shows the frequency of different trip types in the dataset.\n"
     ]
    },
    {
     "data": {
      "image/png": "[encoded data removed]",
      "text/plain": [
       "<Figure size 1000x600 with 1 Axes>"
      ]
     },
     "metadata": {},
     "output_type": "display_data"
    }
   ],
   "source": [
    "# most common way that New Yorks request a cab\n",
    "trip_type_map = {1.0: 'Street-hail', 2.0: 'Dispatch', pd.NA: 'Unknown'}\n",
    "tripdata_df['trip_type_name'] = tripdata_df['trip_type'].map(trip_type_map)\n",
    "\n",
    "trip_type_counts = tripdata_df['trip_type_name'].value_counts()\n",
    "ax = trip_type_counts.plot(kind='bar', figsize=(10,6), \n",
    "                          title='Most Common Way New Yorkers Request a Cab')\n",
    "ax.set_xlabel('Trip Type')\n",
    "ax.set_ylabel('Number of Trips')\n",
    "\n",
    "print(\"This bar chart shows the frequency of different trip types in the dataset.\")\n"
   ]
  },
  {
   "cell_type": "code",
   "execution_count": 110,
   "metadata": {},
   "outputs": [
    {
     "name": "stdout",
     "output_type": "stream",
     "text": [
      "This bar chart displays the number of trips for each day of the week for each week of December.\n"
     ]
    },
    {
     "data": {
      "image/png": "[encoded data removed]",
      "text/plain": [
       "<Figure size 1000x600 with 1 Axes>"
      ]
     },
     "metadata": {},
     "output_type": "display_data"
    }
   ],
   "source": [
    "# data for each week to determine if there are patterns in the frequency of trips based on the day of the week (i.e. Sun to Sat).\n",
    "tripdata_df['pickup_dow'] = tripdata_df['lpep_pickup_datetime'].dt.day_name()\n",
    "tripdata_df['week'] = ((tripdata_df['lpep_pickup_datetime'].dt.day - 1) // 7) + 1\n",
    "\n",
    "weekday_order = [\"Sunday\", \"Monday\", \"Tuesday\", \"Wednesday\", \"Thursday\", \"Friday\", \"Saturday\"]\n",
    "dow_by_week = tripdata_df.groupby(['week', 'pickup_dow']).size().unstack(fill_value=0)[weekday_order]\n",
    "\n",
    "ax = dow_by_week.plot.bar(figsize=(10,6), title='Green Taxi Trips by Week & Day (December 2023)')\n",
    "ax.set_xlabel('Week of December')\n",
    "ax.set_ylabel('Number of Trips')\n",
    "\n",
    "print(\"This bar chart displays the number of trips for each day of the week for each week of December.\")"
   ]
  },
  {
   "cell_type": "code",
   "execution_count": 139,
   "metadata": {},
   "outputs": [
    {
     "name": "stdout",
     "output_type": "stream",
     "text": [
      "This bar chart shows which PULocationID values appear most frequently in the data\n"
     ]
    },
    {
     "data": {
      "image/png": "[encoded data removed]",
      "text/plain": [
       "<Figure size 600x400 with 1 Axes>"
      ]
     },
     "metadata": {},
     "output_type": "display_data"
    }
   ],
   "source": [
    "# the most common pick-up locations (display the top 5 locations).\n",
    "pickup_counts = tripdata_df['PULocationID'].value_counts()\n",
    "\n",
    "top5_pickups = pickup_counts.head(5)\n",
    "\n",
    "ax = top5_pickups.plot.bar(\n",
    "    figsize=(6, 4),\n",
    "    color='orange',\n",
    "    title='Top 5 Pickup Location'\n",
    ")\n",
    "\n",
    "ax.set_xlabel('Pickup Location ID')\n",
    "ax.set_ylabel('Number of Trips')\n",
    "\n",
    "print(\"This bar chart shows which PULocationID values appear most frequently in the data\")\n"
   ]
  },
  {
   "cell_type": "code",
   "execution_count": 108,
   "metadata": {},
   "outputs": [
    {
     "name": "stdout",
     "output_type": "stream",
     "text": [
      "This bar chart shows which DOLocationID values appear most frequently in the data\n"
     ]
    },
    {
     "data": {
      "image/png": "[encoded data removed]",
      "text/plain": [
       "<Figure size 600x400 with 1 Axes>"
      ]
     },
     "metadata": {},
     "output_type": "display_data"
    }
   ],
   "source": [
    "# the most common drop-off locations (display the top 5 locations). \n",
    "dropoff_counts = tripdata_df['DOLocationID'].value_counts()\n",
    "\n",
    "top5_dropoffs = dropoff_counts.head(5)\n",
    "\n",
    "ax = top5_dropoffs.plot.bar(\n",
    "    figsize=(6, 4),\n",
    "    color='purple',\n",
    "    title='Top 5 Drop-off Location'\n",
    ")\n",
    "\n",
    "ax.set_xlabel('Drop-off Location ID')\n",
    "ax.set_ylabel('Number of Trips')\n",
    "\n",
    "print(\"This bar chart shows which DOLocationID values appear most frequently in the data\")\n"
   ]
  },
  {
   "cell_type": "markdown",
   "metadata": {},
   "source": [
    "## 7. Data Analysis (9 pts)\n",
    "Write suitable code to answer the following:\n",
    "1. Calculate the **range** of distances traveled by the green taxis. Then, compare the average distance with the shortest and longest distances. What insights can be drawn about travel using these taxis?\n",
    "2. What is the most expensive and least expensive trip? \n",
    "3. What is the minimum, average and maximum **tip amount** for all trips that are 1) under 2 miles and 2) over 2 miles (i.e. >= 2)? \n",
    "\n",
    "Explain the results.\n",
    "\n",
    "*`TIP`: If the answers from your analysis in this question contains erroneous or invalid numeric values, this means that the data needs to be cleaned to ensure that the analytical results are coherent.*"
   ]
  },
  {
   "cell_type": "code",
   "execution_count": 123,
   "metadata": {},
   "outputs": [
    {
     "name": "stdout",
     "output_type": "stream",
     "text": [
      "Shortest distance: 0.00 miles\n",
      "Longest distance:  118988.71 miles\n",
      "Average distance:  25.05 miles\n",
      "\n",
      "After cleaning:\n",
      "Shortest distance: 0.00 miles\n",
      "Longest distance:  70.52 miles\n",
      "Average distance:  2.87 miles\n",
      "\n",
      "Travel used by these taxis are usually short distances, with the average distance being 2.6 miles.\n"
     ]
    }
   ],
   "source": [
    "# range of distances traveled by green taxis\n",
    "min_distance = cleaned_df['trip_distance'].min()\n",
    "max_distance = cleaned_df['trip_distance'].max()\n",
    "\n",
    "# average distance\n",
    "avg_distance = tripdata_df['trip_distance'].mean()\n",
    "\n",
    "print(f\"Shortest distance: {min_distance:.2f} miles\")\n",
    "print(f\"Longest distance:  {max_distance:.2f} miles\")\n",
    "print(f\"Average distance:  {avg_distance:.2f} miles\")\n",
    "\n",
    "tripdata_df_clean = tripdata_df.copy()\n",
    "\n",
    "# Drop negative distances or unrealistic outliers\n",
    "distance_mask = (tripdata_df_clean['trip_distance'] >= 0) & (tripdata_df_clean['trip_distance'] <= 200)\n",
    "tripdata_df_clean = tripdata_df_clean[distance_mask]\n",
    "\n",
    "min_distance_clean = tripdata_df_clean['trip_distance'].min()\n",
    "max_distance_clean = tripdata_df_clean['trip_distance'].max()\n",
    "avg_distance_clean = tripdata_df_clean['trip_distance'].mean()\n",
    "\n",
    "print(f\"\\nAfter cleaning:\")\n",
    "print(f\"Shortest distance: {min_distance_clean:.2f} miles\")\n",
    "print(f\"Longest distance:  {max_distance_clean:.2f} miles\")\n",
    "print(f\"Average distance:  {avg_distance_clean:.2f} miles\")\n",
    "\n",
    "print(\"\\nTravel used by these taxis are usually short distances, with the average distance being 2.6 miles.\")\n"
   ]
  },
  {
   "cell_type": "code",
   "execution_count": 131,
   "metadata": {},
   "outputs": [
    {
     "name": "stdout",
     "output_type": "stream",
     "text": [
      "Min total_amount: -221.0\n",
      "Max total_amount: 1622.6\n",
      "\n",
      "New min total_amount: 0.0\n",
      "New max total_amount: 1622.6\n"
     ]
    }
   ],
   "source": [
    "min_fare = tripdata_df['total_amount'].min()\n",
    "max_fare = tripdata_df['total_amount'].max()\n",
    "\n",
    "print(f\"Min total_amount: {min_fare}\")\n",
    "print(f\"Max total_amount: {max_fare}\")\n",
    "\n",
    "tripdata_df_clean = tripdata_df.copy()\n",
    "\n",
    "# Remove negative total amounts\n",
    "tripdata_df_clean = tripdata_df_clean[tripdata_df_clean['total_amount'] >= 0]\n",
    "\n",
    "min_fare_clean = tripdata_df_clean['total_amount'].min()\n",
    "max_fare_clean = tripdata_df_clean['total_amount'].max()\n",
    "\n",
    "print(f\"\\nNew min total_amount: {min_fare_clean}\")\n",
    "print(f\"New max total_amount: {max_fare_clean}\")\n"
   ]
  },
  {
   "cell_type": "code",
   "execution_count": 136,
   "metadata": {},
   "outputs": [
    {
     "name": "stdout",
     "output_type": "stream",
     "text": [
      "Tips for trips < 2 miles\n",
      "Minimum: $-0.01\n",
      "Average: $1.50\n",
      "Maximum: $150.00\n",
      "\n",
      "Tips for trips >= 2 miles\n",
      "Minimum: $0.00\n",
      "Average: $3.17\n",
      "Maximum: $100.00\n",
      "\n",
      "After cleaning:\n",
      "Tips for trips < 2 miles\n",
      "Minimum: $0.00\n",
      "Average: $1.51\n",
      "Maximum: $150.00\n",
      "\n",
      "Tips for trips >= 2 miles\n",
      "Minimum: $0.00\n",
      "Average: $3.17\n",
      "Maximum: $100.00\n"
     ]
    }
   ],
   "source": [
    "# Split the DataFrame into two groups\n",
    "under_2_df = tripdata_df[tripdata_df['trip_distance'] < 2]\n",
    "over_2_df  = tripdata_df[tripdata_df['trip_distance'] >= 2]\n",
    "\n",
    "# Tips for under 2 miles\n",
    "under_2_tip_min  = under_2_df['tip_amount'].min()\n",
    "under_2_tip_mean = under_2_df['tip_amount'].mean()\n",
    "under_2_tip_max  = under_2_df['tip_amount'].max()\n",
    "\n",
    "# Tips for over 2 miles\n",
    "over_2_tip_min  = over_2_df['tip_amount'].min()\n",
    "over_2_tip_mean = over_2_df['tip_amount'].mean()\n",
    "over_2_tip_max  = over_2_df['tip_amount'].max()\n",
    "\n",
    "print(\"Tips for trips < 2 miles\")\n",
    "print(f\"Minimum: ${under_2_tip_min:.2f}\")\n",
    "print(f\"Average: ${under_2_tip_mean:.2f}\")\n",
    "print(f\"Maximum: ${under_2_tip_max:.2f}\\n\")\n",
    "\n",
    "print(\"Tips for trips >= 2 miles\")\n",
    "print(f\"Minimum: ${over_2_tip_min:.2f}\")\n",
    "print(f\"Average: ${over_2_tip_mean:.2f}\")\n",
    "print(f\"Maximum: ${over_2_tip_max:.2f}\")\n",
    "\n",
    "tripdata_df_clean = tripdata_df.copy()\n",
    "\n",
    "# Remove negative total amounts\n",
    "tripdata_df_clean = tripdata_df_clean[tripdata_df_clean['total_amount'] >= 0]\n",
    "\n",
    "under_2_df_clean = tripdata_df_clean[tripdata_df_clean['trip_distance'] < 2]\n",
    "over_2_df_clean  = tripdata_df_clean[tripdata_df_clean['trip_distance'] >= 2]\n",
    "\n",
    "# Tips for under 2 miles\n",
    "under_2_tip_min_clean  = under_2_df_clean['tip_amount'].min()\n",
    "under_2_tip_mean_clean = under_2_df_clean['tip_amount'].mean()\n",
    "under_2_tip_max_clean  = under_2_df_clean['tip_amount'].max()\n",
    "\n",
    "# Tips for over 2 miles\n",
    "over_2_tip_min_clean  = over_2_df_clean['tip_amount'].min()\n",
    "over_2_tip_mean_clean = over_2_df_clean['tip_amount'].mean()\n",
    "over_2_tip_max_clean  = over_2_df_clean['tip_amount'].max()\n",
    "\n",
    "print(\"\\nAfter cleaning:\")\n",
    "print(\"Tips for trips < 2 miles\")\n",
    "print(f\"Minimum: ${under_2_tip_min_clean:.2f}\")\n",
    "print(f\"Average: ${under_2_tip_mean_clean:.2f}\")\n",
    "print(f\"Maximum: ${under_2_tip_max_clean:.2f}\\n\")\n",
    "\n",
    "print(\"Tips for trips >= 2 miles\")\n",
    "print(f\"Minimum: ${over_2_tip_min_clean:.2f}\")\n",
    "print(f\"Average: ${over_2_tip_mean_clean:.2f}\")\n",
    "print(f\"Maximum: ${over_2_tip_max_clean:.2f}\")\n"
   ]
  },
  {
   "cell_type": "markdown",
   "metadata": {},
   "source": [
    "## 8. Findings (2 pts)\n",
    "Based on the preliminary analysis, is this data a viable source that can be used by your team in the future to understand how New Yorkers use these taxis? Justify your response."
   ]
  },
  {
   "cell_type": "markdown",
   "metadata": {},
   "source": [
    "Based on preliminary analysis, I would say this data is not a viable source that can be used to understand how New Yorkers use these taxis. First of all, a lot of data had to be cleaned in order for the findings to be valid. Without any cleaning, there would be a lot of invalid numeric values and crazy outliers that are unreasonable from a real world perspective. For example, before cleaning, we had a longest distance of 118988.71 miles, which is completely unreasonable. There are also a lot of negative values that show up like in the minimum tip given and the minimum trip cost. The data needs a lot of cleaning before we can reasonably use it to understand how New Yorkers use these taxis. "
   ]
  }
 ],
 "metadata": {
  "kernelspec": {
   "display_name": "Python 3",
   "language": "python",
   "name": "python3"
  },
  "language_info": {
   "codemirror_mode": {
    "name": "ipython",
    "version": 3
   },
   "file_extension": ".py",
   "mimetype": "text/x-python",
   "name": "python",
   "nbconvert_exporter": "python",
   "pygments_lexer": "ipython3",
   "version": "3.11.11"
  }
 },
 "nbformat": 4,
 "nbformat_minor": 4
}
