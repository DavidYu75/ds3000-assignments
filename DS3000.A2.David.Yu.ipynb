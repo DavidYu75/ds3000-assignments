{
 "cells": [
  {
   "cell_type": "markdown",
   "metadata": {},
   "source": [
    "# DS 3000 - Assignment [2]\n",
    "\n",
    "**Student Name**: [David Yu]\n",
    "\n",
    "**Date**: [1/16/25]\n",
    "\n",
    "\n",
    "### Submission Instructions\n",
    "Submit this `ipynb` file to canvas.\n",
    "\n",
    "The `ipynb` format stores outputs from the last time you ran the notebook.  (When you open a notebook it has the figures and outputs of the last time you ran it too).  To ensure that your submitted `ipynb` file represents your latest code, make sure to give a fresh run `Kernel > Restart & Run All` just before uploading the `ipynb` file to Canvas.\n",
    "\n",
    "### Academic Integrity\n",
    "\n",
    "**Writing your homework is an individual effort.**  You may discuss general python problems with other students but under no circumstances should you observe another student's code which was written for this assignment, from this year or past years.  Pop into office hours or DM us in MS Teams if you have a specific question about your work or if you would like another pair of eyes or talk through your code.\n",
    "\n",
    "Don't forget to cite websites which helped you solve a problem in a unique way.  You can do this in markdown near the code or with a simple one-line comment. You do not need to cite the official python documentation.\n",
    "\n",
    "**Documentation / style counts for credit**  Please refer to the Pep-8 style, to improve the readability and consistency of your Python code. For more information, read the following article [How to Write Beautiful Python Code With PEP 8](https://realpython.com/python-pep8/) or ask your TA's for tips.\n",
    "\n",
    "**NOTE:<span style='color:red'> Write python expressions to answer ALL questions below and ensure that you use the `print()` function to display the output.</span>** Each question should be answered in a new code cell. For example, your solution for question 1.1 should be in a different code cell from your solution for question 1.2."
   ]
  },
  {
   "cell_type": "markdown",
   "metadata": {},
   "source": [
    "## Question 1: Analyzing Numeric Data\n",
    "\n",
    "The data that you are working with pertains to the risk factors that are associated with low infant birth weight**. The data contains the following fields:\n",
    "\n",
    "low\n",
    "indicator of birth weight less than 2.5 kg.\n",
    "\n",
    "age\n",
    "mother's age in years.\n",
    "\n",
    "lwt\n",
    "mother's weight in pounds at last menstrual period.\n",
    "\n",
    "race\n",
    "mother's race (1 = white, 2 = black, 3 = other).\n",
    "\n",
    "smoke\n",
    "smoking status during pregnancy  (0 = false, 1 = true).\n",
    "\n",
    "ptl\n",
    "number of previous premature labors.\n",
    "\n",
    "ht\n",
    "history of hypertension (0 = false, 1 = true).\n",
    "\n",
    "ui\n",
    "presence of uterine irritability.\n",
    "\n",
    "ftv\n",
    "number of physician visits during the first trimester.\n",
    "\n",
    "bwt\n",
    "birth weight in grams.\n",
    "\n",
    "Write python code to answer the questions below and ensure that you round all numeric calculations (i.e. floats) to 2 decimal places (unless indicated otherwise).\n",
    "Tip: you will need to filter for conditions that are true before performing certain calculations.\n",
    "\n",
    "(5 pts) Load the attached data into a numpy array and display the dimensions of the data : birthwt.csvDownload birthwt.csv\n",
    "Note: do not count the column headers, only the data.\n",
    "(3 pts) What is the age range of mothers in this dataset.\n",
    "Note: the range should include: the minimum, average and maximum age. Ensure that the ages are represented as whole numbers.\n",
    "(2 pts) How many mothers smoked during pregnancy?\n",
    "(2 pts) How many mothers had a history of hypertension?\n",
    "(3 pts) How many mothers have 1 or more premature births?\n",
    "(5 pts) Create a function called convert_birthweight() that:\n",
    "takes grams as input,\n",
    "converts grams to the equivalent pounds and ounces\n",
    "example format: X grams = Y lbs Z oz; note: X, Y and Z are placeholders for numeric values.\n",
    "return the converted value.\n",
    "Use the convert_birthweight() function to convert the birth weight to pounds and ounces in the questions 7-11 below.\n",
    "(5 pts) What is the average birth weight of babies whose mothers have a history of premature birth? \n",
    "(5 pts) What is the minimum, average and maximum birth weight of babies whose mother did not smoke during pregnancy and do not have a history of hypertension?\n",
    "(5 pts) What is the minimum, average and maximum birth weight of babies whose mothers smoked during pregnancy?\n",
    "(5 pts) What is the minimum, average and maximum birth weight of babies whose mothers had a history of hypertension? \n",
    "(5 pts) What is the minimum, average and maximum birth weight of babies whose mothers smoked during pregnancy and had a history of hypertension? \n",
    "(5 pts) Compare and contrast the results from 7-11 above and summarize your findings.\n",
    "Do you see any patterns in the birth weight of babies whose mother did not have any history of hypertension and/or did not smoke during pregnancy versus those who did? Ensure that you reference specific birth weights to support your explanation.\n"
   ]
  },
  {
   "cell_type": "code",
   "execution_count": 27,
   "metadata": {},
   "outputs": [
    {
     "name": "stdout",
     "output_type": "stream",
     "text": [
      "Array Size:  (189, 10)\n",
      "Dimensions:  2\n"
     ]
    }
   ],
   "source": [
    "# Load the attached data into a numpy array and display the dimensions of the data : birthwt.csv\n",
    "# Note: do not count the column headers, only the data.\n",
    "import numpy as np\n",
    "\n",
    "data = np.genfromtxt('birthwt.csv', delimiter=',', skip_header=1)\n",
    "\n",
    "print(\"Array Size: \", data.shape)\n",
    "print(\"Dimensions: \", data.ndim)"
   ]
  },
  {
   "cell_type": "code",
   "execution_count": 29,
   "metadata": {},
   "outputs": [
    {
     "name": "stdout",
     "output_type": "stream",
     "text": [
      "Minimum Age:  14\n",
      "Maximum Age:  45\n",
      "Average Age:  23\n"
     ]
    }
   ],
   "source": [
    "# What is the age range of mothers in this dataset.\n",
    "# Note: the range should include: the minimum, average and maximum age. Ensure that the ages are represented as whole numbers.\n",
    "ages = data[:, 1]\n",
    "\n",
    "min_age = int(np.min(ages))\n",
    "max_age = int(np.max(ages))\n",
    "avg_age = round(np.mean(ages))\n",
    "\n",
    "print(\"Minimum Age: \", min_age)\n",
    "print(\"Maximum Age: \", max_age)\n",
    "print(\"Average Age: \", avg_age)"
   ]
  },
  {
   "cell_type": "code",
   "execution_count": 30,
   "metadata": {},
   "outputs": [
    {
     "name": "stdout",
     "output_type": "stream",
     "text": [
      "Number of Mothers who smoked:  74\n"
     ]
    }
   ],
   "source": [
    "# How many mothers smoked during pregnancy?\n",
    "smokers = np.sum(data[:, 4] == 1)\n",
    "\n",
    "print(\"Number of Mothers who smoked: \", smokers)"
   ]
  },
  {
   "cell_type": "code",
   "execution_count": 24,
   "metadata": {},
   "outputs": [
    {
     "name": "stdout",
     "output_type": "stream",
     "text": [
      "Number of Mothers with Hypertension:  12\n"
     ]
    }
   ],
   "source": [
    "# How many mothers had a history of hypertension?\n",
    "hypertension = np.sum(data[:, 6] == 1)\n",
    "\n",
    "print(\"Number of Mothers with Hypertension: \", hypertension)"
   ]
  },
  {
   "cell_type": "code",
   "execution_count": 23,
   "metadata": {},
   "outputs": [
    {
     "name": "stdout",
     "output_type": "stream",
     "text": [
      "Number of Mothers with 1 or more premature births:  30\n"
     ]
    }
   ],
   "source": [
    "# How many mothers have 1 or more premature births?\n",
    "premature = np.sum(data[:, 5] >= 1)\n",
    "\n",
    "print(\"Number of Mothers with 1 or more premature births: \", premature)"
   ]
  },
  {
   "cell_type": "code",
   "execution_count": 19,
   "metadata": {},
   "outputs": [
    {
     "name": "stdout",
     "output_type": "stream",
     "text": [
      "2000 grams = 4 lbs 6.55 oz\n",
      "100 grams = 0 lbs 3.53 oz\n"
     ]
    }
   ],
   "source": [
    "# Create a function called convert_birthweight() that:\n",
    "# takes grams as input,\n",
    "# converts grams to the equivalent pounds and ounces\n",
    "# example format: X grams = Y lbs Z oz; note: X, Y and Z are placeholders for numeric values.\n",
    "# return the converted value.\n",
    "\n",
    "def convert_birthweight(grams):\n",
    "    pounds = grams * 0.00220462\n",
    "    ounces = (pounds - int(pounds)) * 16\n",
    "    return f\"{grams} grams = {int(pounds)} lbs {round(ounces, 2)} oz\"\n",
    "\n",
    "# test: 2000 grams = 4 lbs 6 oz\n",
    "print(convert_birthweight(2000))\n",
    "# test: 100 grams = 0 lbs 3 oz\n",
    "print(convert_birthweight(100))"
   ]
  },
  {
   "cell_type": "code",
   "execution_count": 22,
   "metadata": {},
   "outputs": [
    {
     "name": "stdout",
     "output_type": "stream",
     "text": [
      "Average Birth Weight of Babies whose Mothers have a history of premature birth:  2579 grams = 5 lbs 10.97 oz\n"
     ]
    }
   ],
   "source": [
    "# What is the average birth weight of babies whose mothers have a history of premature birth?\n",
    "premature_mothers = data[:, 5] > 0\n",
    "premature_weight = data[premature_mothers, 9]\n",
    "\n",
    "avg_age = round(np.mean(premature_weight))\n",
    "\n",
    "print(\"Average Birth Weight of Babies whose Mothers have a history of premature birth: \", convert_birthweight(avg_age))"
   ]
  },
  {
   "cell_type": "code",
   "execution_count": null,
   "metadata": {},
   "outputs": [],
   "source": []
  },
  {
   "cell_type": "markdown",
   "metadata": {},
   "source": [
    "## Helpful resources \n",
    "Don't forget to cite websites which helped you solve a problem in a unique way.  You can do this in markdown near the code or with a simple one-line comment inside the code cell, or you can list them below. \n",
    "\n",
    "You do not need to cite the official python documentation.\n"
   ]
  }
 ],
 "metadata": {
  "kernelspec": {
   "display_name": "Python 3",
   "language": "python",
   "name": "python3"
  },
  "language_info": {
   "codemirror_mode": {
    "name": "ipython",
    "version": 3
   },
   "file_extension": ".py",
   "mimetype": "text/x-python",
   "name": "python",
   "nbconvert_exporter": "python",
   "pygments_lexer": "ipython3",
   "version": "3.11.10"
  }
 },
 "nbformat": 4,
 "nbformat_minor": 4
}
