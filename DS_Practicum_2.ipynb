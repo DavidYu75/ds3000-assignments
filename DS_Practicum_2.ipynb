{
  "cells": [
    {
      "cell_type": "markdown",
      "metadata": {
        "id": "093qAMbZgVZo"
      },
      "source": [
        "# DS 3000 - Practicum 2\n",
        "\n",
        "**Student Names**: Tarun Nagesh, Maryam Abdus Salaam, David Yu\n",
        "\n",
        "**Date**: March 1st, 2025\n",
        "\n",
        "\n",
        "### Submission Instructions\n",
        "Submit this `ipynb` file to canvas.\n",
        "\n",
        "The `ipynb` format stores outputs from the last time you ran the notebook.  (When you open a notebook it has the figures and outputs of the last time you ran it too).  To ensure that your submitted `ipynb` file represents your latest code, make sure to give a fresh run `Kernel > Restart & Run All` just before uploading the `ipynb` file to Canvas.\n",
        "\n",
        "### Academic Integrity\n",
        "\n",
        "**Writing your homework is an individual effort.**  You may discuss general python problems with other students but under no circumstances should you observe another student's code which was written for this assignment, from this year or past years.  Pop into office hours or DM us in MS Teams if you have a specific question about your work or if you would like another pair of eyes or talk through your code.\n",
        "\n",
        "Don't forget to cite websites which helped you solve a problem in a unique way.  You can do this in markdown near the code or with a simple one-line comment. You do not need to cite the official python documentation.\n",
        "\n",
        "**Documentation / style counts for credit**  Please refer to the Pep-8 style, to improve the readability and consistency of your Python code. For more information, read the following article [How to Write Beautiful Python Code With PEP 8](https://realpython.com/python-pep8/) or ask your TA's for tips.\n",
        "\n",
        "**NOTE:<span style='color:red'> Write python expressions to answer ALL questions below and ensure that you use the `print()` function to display the output.</span>** Each question should be answered in a new code cell. For example, your solution for question 1.1 should be in a different code cell from your solution for question 1.2."
      ]
    },
    {
      "cell_type": "markdown",
      "metadata": {
        "id": "TN6bi9mSgVZp"
      },
      "source": [
        "## Question 1 — The DS Problem\n",
        "\n",
        "In your own words, formulate the Data Science problem that you were given.\n"
      ]
    },
    {
      "cell_type": "markdown",
      "metadata": {
        "id": "2renFgF-ijSB"
      },
      "source": [
        "The Data Science (DS) problem for this practicum is to analyze wildlife airstrike data to extract insights into the loss of lives and machinery, common factors, and potential prevantative steps that airlines can take to minimizes these losses.\n",
        "\n",
        "## **Objectives**\n",
        "1.\n",
        "\n",
        "2.\n",
        "\n",
        "3."
      ]
    },
    {
      "cell_type": "markdown",
      "metadata": {
        "id": "sxAIC2nDgVZq"
      },
      "source": [
        "## Question 2 — Clean the data (10 pts)\n",
        "Load the data using pandas and inspect it.\n",
        "\n",
        "1) Perform the initial inspection of the data, its shape, types, etc.\n",
        "\n",
        "2) Evaluate the dataset and perform at least three type of data preparation and justify the approach that is taken to prepare the data for analysis. Data prep can include, but is not limited to: handling missing values, data types, duplicates, etc. You will need to ensure that your data preparation addressed issues in at least 7 fields in the data.\n",
        "\n",
        "3) Prepare meaningful* summary statistics for 3 continuous variables and 3 categorical variables.\n",
        "Note: meaningful summary statistics explains the statistical summary of relevant fields in a coherent manner.\n"
      ]
    },
    {
      "cell_type": "code",
      "execution_count": 1,
      "metadata": {
        "id": "lhHTDKLDgVZq"
      },
      "outputs": [
        {
          "name": "stderr",
          "output_type": "stream",
          "text": [
            "/var/folders/7d/kwt0yt6x3c37s1k0wbtcbt0w0000gn/T/ipykernel_5250/518301862.py:2: DtypeWarning: Columns (18,21) have mixed types. Specify dtype option on import or set low_memory=False.\n",
            "  bird_strike_df = pd.read_csv(\"Bird_Strikes_1990_2023.csv\")\n"
          ]
        },
        {
          "data": {
            "text/html": [
              "<div>\n",
              "<style scoped>\n",
              "    .dataframe tbody tr th:only-of-type {\n",
              "        vertical-align: middle;\n",
              "    }\n",
              "\n",
              "    .dataframe tbody tr th {\n",
              "        vertical-align: top;\n",
              "    }\n",
              "\n",
              "    .dataframe thead th {\n",
              "        text-align: right;\n",
              "    }\n",
              "</style>\n",
              "<table border=\"1\" class=\"dataframe\">\n",
              "  <thead>\n",
              "    <tr style=\"text-align: right;\">\n",
              "      <th></th>\n",
              "      <th>INDEX_NR</th>\n",
              "      <th>INCIDENT_DATE</th>\n",
              "      <th>INCIDENT_MONTH</th>\n",
              "      <th>INCIDENT_YEAR</th>\n",
              "      <th>TIME</th>\n",
              "      <th>TIME_OF_DAY</th>\n",
              "      <th>AIRPORT_ID</th>\n",
              "      <th>AIRPORT</th>\n",
              "      <th>LATITUDE</th>\n",
              "      <th>LONGITUDE</th>\n",
              "      <th>...</th>\n",
              "      <th>SIZE</th>\n",
              "      <th>NR_INJURIES</th>\n",
              "      <th>NR_FATALITIES</th>\n",
              "      <th>COMMENTS</th>\n",
              "      <th>REPORTED_NAME</th>\n",
              "      <th>REPORTED_TITLE</th>\n",
              "      <th>SOURCE</th>\n",
              "      <th>PERSON</th>\n",
              "      <th>LUPDATE</th>\n",
              "      <th>TRANSFER</th>\n",
              "    </tr>\n",
              "  </thead>\n",
              "  <tbody>\n",
              "    <tr>\n",
              "      <th>0</th>\n",
              "      <td>608242</td>\n",
              "      <td>6/22/1996</td>\n",
              "      <td>6</td>\n",
              "      <td>1996</td>\n",
              "      <td>NaN</td>\n",
              "      <td>NaN</td>\n",
              "      <td>KSMF</td>\n",
              "      <td>SACRAMENTO INTL</td>\n",
              "      <td>38.69542</td>\n",
              "      <td>-121.59077</td>\n",
              "      <td>...</td>\n",
              "      <td>Medium</td>\n",
              "      <td>NaN</td>\n",
              "      <td>NaN</td>\n",
              "      <td>/Legacy Record=100001/</td>\n",
              "      <td>REDACTED</td>\n",
              "      <td>REDACTED</td>\n",
              "      <td>Air Transport Report</td>\n",
              "      <td>Air Transport Operations</td>\n",
              "      <td>12/20/2007</td>\n",
              "      <td>False</td>\n",
              "    </tr>\n",
              "    <tr>\n",
              "      <th>1</th>\n",
              "      <td>608243</td>\n",
              "      <td>6/26/1996</td>\n",
              "      <td>6</td>\n",
              "      <td>1996</td>\n",
              "      <td>NaN</td>\n",
              "      <td>NaN</td>\n",
              "      <td>KDEN</td>\n",
              "      <td>DENVER INTL AIRPORT</td>\n",
              "      <td>39.85841</td>\n",
              "      <td>-104.66700</td>\n",
              "      <td>...</td>\n",
              "      <td>Medium</td>\n",
              "      <td>NaN</td>\n",
              "      <td>NaN</td>\n",
              "      <td>/Legacy Record=100002/</td>\n",
              "      <td>REDACTED</td>\n",
              "      <td>REDACTED</td>\n",
              "      <td>Air Transport Report</td>\n",
              "      <td>Air Transport Operations</td>\n",
              "      <td>12/20/2007</td>\n",
              "      <td>False</td>\n",
              "    </tr>\n",
              "    <tr>\n",
              "      <th>2</th>\n",
              "      <td>608244</td>\n",
              "      <td>7/1/1996</td>\n",
              "      <td>7</td>\n",
              "      <td>1996</td>\n",
              "      <td>NaN</td>\n",
              "      <td>NaN</td>\n",
              "      <td>KOMA</td>\n",
              "      <td>EPPLEY AIRFIELD</td>\n",
              "      <td>41.30252</td>\n",
              "      <td>-95.89417</td>\n",
              "      <td>...</td>\n",
              "      <td>Medium</td>\n",
              "      <td>NaN</td>\n",
              "      <td>NaN</td>\n",
              "      <td>/Legacy Record=100003/</td>\n",
              "      <td>REDACTED</td>\n",
              "      <td>REDACTED</td>\n",
              "      <td>Air Transport Report</td>\n",
              "      <td>Air Transport Operations</td>\n",
              "      <td>12/20/2007</td>\n",
              "      <td>False</td>\n",
              "    </tr>\n",
              "    <tr>\n",
              "      <th>3</th>\n",
              "      <td>608245</td>\n",
              "      <td>7/1/1996</td>\n",
              "      <td>7</td>\n",
              "      <td>1996</td>\n",
              "      <td>NaN</td>\n",
              "      <td>NaN</td>\n",
              "      <td>KIAD</td>\n",
              "      <td>WASHINGTON DULLES INTL ARPT</td>\n",
              "      <td>38.94453</td>\n",
              "      <td>-77.45581</td>\n",
              "      <td>...</td>\n",
              "      <td>Medium</td>\n",
              "      <td>NaN</td>\n",
              "      <td>NaN</td>\n",
              "      <td>/Legacy Record=100004/</td>\n",
              "      <td>REDACTED</td>\n",
              "      <td>REDACTED</td>\n",
              "      <td>Air Transport Report</td>\n",
              "      <td>Air Transport Operations</td>\n",
              "      <td>12/20/2007</td>\n",
              "      <td>False</td>\n",
              "    </tr>\n",
              "    <tr>\n",
              "      <th>4</th>\n",
              "      <td>608246</td>\n",
              "      <td>7/1/1996</td>\n",
              "      <td>7</td>\n",
              "      <td>1996</td>\n",
              "      <td>NaN</td>\n",
              "      <td>NaN</td>\n",
              "      <td>KLGA</td>\n",
              "      <td>LA GUARDIA ARPT</td>\n",
              "      <td>40.77724</td>\n",
              "      <td>-73.87261</td>\n",
              "      <td>...</td>\n",
              "      <td>Medium</td>\n",
              "      <td>NaN</td>\n",
              "      <td>NaN</td>\n",
              "      <td>/Legacy Record=100005/</td>\n",
              "      <td>REDACTED</td>\n",
              "      <td>REDACTED</td>\n",
              "      <td>Air Transport Report</td>\n",
              "      <td>Air Transport Operations</td>\n",
              "      <td>12/20/2007</td>\n",
              "      <td>False</td>\n",
              "    </tr>\n",
              "  </tbody>\n",
              "</table>\n",
              "<p>5 rows × 100 columns</p>\n",
              "</div>"
            ],
            "text/plain": [
              "   INDEX_NR INCIDENT_DATE  INCIDENT_MONTH  INCIDENT_YEAR TIME TIME_OF_DAY  \\\n",
              "0    608242     6/22/1996               6           1996  NaN         NaN   \n",
              "1    608243     6/26/1996               6           1996  NaN         NaN   \n",
              "2    608244      7/1/1996               7           1996  NaN         NaN   \n",
              "3    608245      7/1/1996               7           1996  NaN         NaN   \n",
              "4    608246      7/1/1996               7           1996  NaN         NaN   \n",
              "\n",
              "  AIRPORT_ID                      AIRPORT  LATITUDE  LONGITUDE  ...    SIZE  \\\n",
              "0       KSMF              SACRAMENTO INTL  38.69542 -121.59077  ...  Medium   \n",
              "1       KDEN          DENVER INTL AIRPORT  39.85841 -104.66700  ...  Medium   \n",
              "2       KOMA              EPPLEY AIRFIELD  41.30252  -95.89417  ...  Medium   \n",
              "3       KIAD  WASHINGTON DULLES INTL ARPT  38.94453  -77.45581  ...  Medium   \n",
              "4       KLGA              LA GUARDIA ARPT  40.77724  -73.87261  ...  Medium   \n",
              "\n",
              "  NR_INJURIES NR_FATALITIES                COMMENTS REPORTED_NAME  \\\n",
              "0         NaN           NaN  /Legacy Record=100001/      REDACTED   \n",
              "1         NaN           NaN  /Legacy Record=100002/      REDACTED   \n",
              "2         NaN           NaN  /Legacy Record=100003/      REDACTED   \n",
              "3         NaN           NaN  /Legacy Record=100004/      REDACTED   \n",
              "4         NaN           NaN  /Legacy Record=100005/      REDACTED   \n",
              "\n",
              "  REPORTED_TITLE                SOURCE                    PERSON     LUPDATE  \\\n",
              "0       REDACTED  Air Transport Report  Air Transport Operations  12/20/2007   \n",
              "1       REDACTED  Air Transport Report  Air Transport Operations  12/20/2007   \n",
              "2       REDACTED  Air Transport Report  Air Transport Operations  12/20/2007   \n",
              "3       REDACTED  Air Transport Report  Air Transport Operations  12/20/2007   \n",
              "4       REDACTED  Air Transport Report  Air Transport Operations  12/20/2007   \n",
              "\n",
              "  TRANSFER  \n",
              "0    False  \n",
              "1    False  \n",
              "2    False  \n",
              "3    False  \n",
              "4    False  \n",
              "\n",
              "[5 rows x 100 columns]"
            ]
          },
          "execution_count": 1,
          "metadata": {},
          "output_type": "execute_result"
        }
      ],
      "source": [
        "import pandas as pd\n",
        "bird_strike_df = pd.read_csv(\"Bird_Strikes_1990_2023.csv\")\n",
        "# Displaying first 5 rows\n",
        "bird_strike_df.head()"
      ]
    },
    {
      "cell_type": "code",
      "execution_count": 2,
      "metadata": {
        "id": "94TocOyOLjhJ"
      },
      "outputs": [
        {
          "name": "stdout",
          "output_type": "stream",
          "text": [
            "(288810, 100)\n",
            "<class 'pandas.core.frame.DataFrame'>\n",
            "RangeIndex: 288810 entries, 0 to 288809\n",
            "Data columns (total 100 columns):\n",
            " #   Column                 Non-Null Count   Dtype  \n",
            "---  ------                 --------------   -----  \n",
            " 0   INDEX_NR               288810 non-null  int64  \n",
            " 1   INCIDENT_DATE          288810 non-null  object \n",
            " 2   INCIDENT_MONTH         288810 non-null  int64  \n",
            " 3   INCIDENT_YEAR          288810 non-null  int64  \n",
            " 4   TIME                   163633 non-null  object \n",
            " 5   TIME_OF_DAY            166394 non-null  object \n",
            " 6   AIRPORT_ID             288804 non-null  object \n",
            " 7   AIRPORT                288810 non-null  object \n",
            " 8   LATITUDE               253309 non-null  float64\n",
            " 9   LONGITUDE              253308 non-null  float64\n",
            " 10  RUNWAY                 218852 non-null  object \n",
            " 11  STATE                  253309 non-null  object \n",
            " 12  FAAREGION              253309 non-null  object \n",
            " 13  LOCATION               33939 non-null   object \n",
            " 14  ENROUTE_STATE          5037 non-null    object \n",
            " 15  OPID                   288784 non-null  object \n",
            " 16  OPERATOR               288810 non-null  object \n",
            " 17  REG                    172543 non-null  object \n",
            " 18  FLT                    129249 non-null  object \n",
            " 19  AIRCRAFT               288810 non-null  object \n",
            " 20  AMA                    205475 non-null  object \n",
            " 21  AMO                    190159 non-null  object \n",
            " 22  EMA                    192151 non-null  float64\n",
            " 23  EMO                    186756 non-null  float64\n",
            " 24  AC_CLASS               206893 non-null  object \n",
            " 25  AC_MASS                206490 non-null  float64\n",
            " 26  TYPE_ENG               206044 non-null  object \n",
            " 27  NUM_ENGS               206259 non-null  float64\n",
            " 28  ENG_1_POS              205481 non-null  float64\n",
            " 29  ENG_2_POS              191612 non-null  float64\n",
            " 30  ENG_3_POS              13080 non-null   float64\n",
            " 31  ENG_4_POS              3290 non-null    float64\n",
            " 32  PHASE_OF_FLIGHT        177843 non-null  object \n",
            " 33  HEIGHT                 148807 non-null  float64\n",
            " 34  SPEED                  94237 non-null   float64\n",
            " 35  DISTANCE               188234 non-null  float64\n",
            " 36  SKY                    139382 non-null  object \n",
            " 37  PRECIPITATION          11175 non-null   object \n",
            " 38  AOS                    14196 non-null   float64\n",
            " 39  COST_REPAIRS           5040 non-null    object \n",
            " 40  COST_OTHER             4760 non-null    object \n",
            " 41  COST_REPAIRS_INFL_ADJ  5040 non-null    object \n",
            " 42  COST_OTHER_INFL_ADJ    4760 non-null    object \n",
            " 43  INGESTED_OTHER         288810 non-null  bool   \n",
            " 44  INDICATED_DAMAGE       288810 non-null  bool   \n",
            " 45  DAMAGE_LEVEL           187315 non-null  object \n",
            " 46  STR_RAD                288810 non-null  bool   \n",
            " 47  DAM_RAD                288810 non-null  bool   \n",
            " 48  STR_WINDSHLD           288810 non-null  bool   \n",
            " 49  DAM_WINDSHLD           288810 non-null  bool   \n",
            " 50  STR_NOSE               288810 non-null  bool   \n",
            " 51  DAM_NOSE               288810 non-null  bool   \n",
            " 52  STR_ENG1               288810 non-null  bool   \n",
            " 53  DAM_ENG1               288810 non-null  bool   \n",
            " 54  ING_ENG1               288810 non-null  bool   \n",
            " 55  STR_ENG2               288810 non-null  bool   \n",
            " 56  DAM_ENG2               288810 non-null  bool   \n",
            " 57  ING_ENG2               288810 non-null  bool   \n",
            " 58  STR_ENG3               288810 non-null  bool   \n",
            " 59  DAM_ENG3               288810 non-null  bool   \n",
            " 60  ING_ENG3               288810 non-null  bool   \n",
            " 61  STR_ENG4               288810 non-null  bool   \n",
            " 62  DAM_ENG4               288810 non-null  bool   \n",
            " 63  ING_ENG4               288810 non-null  bool   \n",
            " 64  STR_PROP               288810 non-null  bool   \n",
            " 65  DAM_PROP               288810 non-null  bool   \n",
            " 66  STR_WING_ROT           288810 non-null  bool   \n",
            " 67  DAM_WING_ROT           288810 non-null  bool   \n",
            " 68  STR_FUSE               288810 non-null  bool   \n",
            " 69  DAM_FUSE               288810 non-null  bool   \n",
            " 70  STR_LG                 288810 non-null  bool   \n",
            " 71  DAM_LG                 288810 non-null  bool   \n",
            " 72  STR_TAIL               288810 non-null  bool   \n",
            " 73  DAM_TAIL               288810 non-null  bool   \n",
            " 74  STR_LGHTS              288810 non-null  bool   \n",
            " 75  DAM_LGHTS              288810 non-null  bool   \n",
            " 76  STR_OTHER              288810 non-null  bool   \n",
            " 77  DAM_OTHER              288810 non-null  bool   \n",
            " 78  OTHER_SPECIFY          38462 non-null   object \n",
            " 79  EFFECT                 13718 non-null   object \n",
            " 80  EFFECT_OTHER           2221 non-null    object \n",
            " 81  BIRD_BAND_NUMBER       390 non-null     float64\n",
            " 82  SPECIES_ID             288806 non-null  object \n",
            " 83  SPECIES                288809 non-null  object \n",
            " 84  REMARKS                264305 non-null  object \n",
            " 85  REMAINS_COLLECTED      288810 non-null  bool   \n",
            " 86  REMAINS_SENT           288810 non-null  bool   \n",
            " 87  WARNED                 288810 non-null  object \n",
            " 88  NUM_SEEN               94773 non-null   object \n",
            " 89  NUM_STRUCK             288174 non-null  object \n",
            " 90  SIZE                   263538 non-null  object \n",
            " 91  NR_INJURIES            276 non-null     float64\n",
            " 92  NR_FATALITIES          24 non-null      float64\n",
            " 93  COMMENTS               218834 non-null  object \n",
            " 94  REPORTED_NAME          288810 non-null  object \n",
            " 95  REPORTED_TITLE         288810 non-null  object \n",
            " 96  SOURCE                 288810 non-null  object \n",
            " 97  PERSON                 267676 non-null  object \n",
            " 98  LUPDATE                288810 non-null  object \n",
            " 99  TRANSFER               288810 non-null  bool   \n",
            "dtypes: bool(37), float64(17), int64(3), object(43)\n",
            "memory usage: 149.0+ MB\n",
            "None\n"
          ]
        }
      ],
      "source": [
        "# Displaying shape and data types\n",
        "print(bird_strike_df.shape)\n",
        "info = bird_strike_df.info()\n",
        "print(info)"
      ]
    },
    {
      "cell_type": "code",
      "execution_count": 3,
      "metadata": {
        "id": "ShQRv3wNLz4n"
      },
      "outputs": [
        {
          "name": "stdout",
          "output_type": "stream",
          "text": [
            "INDEX_NR               0\n",
            "INCIDENT_DATE          0\n",
            "INCIDENT_MONTH         0\n",
            "INCIDENT_YEAR          0\n",
            "TIME              125177\n",
            "                   ...  \n",
            "REPORTED_TITLE         0\n",
            "SOURCE                 0\n",
            "PERSON             21134\n",
            "LUPDATE                0\n",
            "TRANSFER               0\n",
            "Length: 100, dtype: int64\n",
            "\n",
            "42693     43\n",
            "52161     43\n",
            "144649    43\n",
            "37786     42\n",
            "248211    42\n",
            "          ..\n",
            "56926      8\n",
            "59956      8\n",
            "86807      8\n",
            "266947     8\n",
            "237705     8\n",
            "Length: 288810, dtype: int64\n"
          ]
        }
      ],
      "source": [
        "# Displaying the number of missing values for each column\n",
        "print(bird_strike_df.isnull().sum())\n",
        "print()\n",
        "\n",
        "# Looking at the rows with the maximum amount of columns missing\n",
        "print(bird_strike_df.isnull().sum(axis=1).sort_values(ascending = False))"
      ]
    },
    {
      "cell_type": "code",
      "execution_count": 4,
      "metadata": {
        "id": "9-D1-rMAL1a1"
      },
      "outputs": [
        {
          "name": "stdout",
          "output_type": "stream",
          "text": [
            "['TIME', 'TIME_OF_DAY', 'LOCATION', 'ENROUTE_STATE', 'REG', 'FLT', 'AMO', 'EMA', 'EMO', 'ENG_2_POS', 'ENG_3_POS', 'ENG_4_POS', 'PHASE_OF_FLIGHT', 'HEIGHT', 'SPEED', 'DISTANCE', 'SKY', 'PRECIPITATION', 'AOS', 'COST_REPAIRS', 'COST_OTHER', 'COST_REPAIRS_INFL_ADJ', 'COST_OTHER_INFL_ADJ', 'DAMAGE_LEVEL', 'OTHER_SPECIFY', 'EFFECT', 'EFFECT_OTHER', 'BIRD_BAND_NUMBER', 'NUM_SEEN', 'NR_INJURIES', 'NR_FATALITIES']\n",
            "\n",
            "INDEX_NR              0\n",
            "INCIDENT_DATE         0\n",
            "INCIDENT_MONTH        0\n",
            "INCIDENT_YEAR         0\n",
            "AIRPORT_ID            6\n",
            "                  ...  \n",
            "REPORTED_TITLE        0\n",
            "SOURCE                0\n",
            "PERSON            21134\n",
            "LUPDATE               0\n",
            "TRANSFER              0\n",
            "Length: 69, dtype: int64\n",
            "\n",
            "(288810, 69)\n"
          ]
        }
      ],
      "source": [
        "# Dropping any columns with more than 1/3 of the entries null for it\n",
        "limit = 288810/3\n",
        "columns_to_drop = []\n",
        "for column in bird_strike_df.columns:\n",
        "    if bird_strike_df[column].isna().sum() > limit:\n",
        "        columns_to_drop.append(column)\n",
        "\n",
        "bird_strike_df = bird_strike_df.drop(columns=columns_to_drop)\n",
        "\n",
        "# Verifying changes happened\n",
        "print(columns_to_drop)\n",
        "print()\n",
        "print(bird_strike_df.isnull().sum())\n",
        "print()\n",
        "print(bird_strike_df.shape)\n"
      ]
    },
    {
      "cell_type": "code",
      "execution_count": 5,
      "metadata": {
        "id": "ODYy6ShVL47h"
      },
      "outputs": [
        {
          "name": "stdout",
          "output_type": "stream",
          "text": [
            "284911    14\n",
            "248211    13\n",
            "281984    13\n",
            "9202      13\n",
            "261794    13\n",
            "          ..\n",
            "103539     0\n",
            "103543     0\n",
            "103545     0\n",
            "216883     0\n",
            "144405     0\n",
            "Length: 288810, dtype: int64\n"
          ]
        }
      ],
      "source": [
        "# Checking rows' null values\n",
        "print(bird_strike_df.isnull().sum(axis=1).sort_values(ascending = False))"
      ]
    },
    {
      "cell_type": "code",
      "execution_count": 6,
      "metadata": {
        "id": "z8etEiRkMBTA"
      },
      "outputs": [],
      "source": [
        "# Dropping any rows with more than 6 of the columns null for it\n",
        "rows_to_drop = bird_strike_df[bird_strike_df.isna().sum(axis=1) > 6].index\n",
        "bird_strike_df = bird_strike_df.drop(index=rows_to_drop)\n",
        "bird_strike_df = bird_strike_df.reset_index(drop=True)"
      ]
    },
    {
      "cell_type": "code",
      "execution_count": 7,
      "metadata": {
        "id": "Mz4Az3QSMETo"
      },
      "outputs": [
        {
          "name": "stdout",
          "output_type": "stream",
          "text": [
            "32853\n",
            "46535     6\n",
            "44349     6\n",
            "75768     6\n",
            "75767     6\n",
            "101471    6\n",
            "         ..\n",
            "185432    0\n",
            "185431    0\n",
            "185430    0\n",
            "185429    0\n",
            "127978    0\n",
            "Length: 255957, dtype: int64\n"
          ]
        }
      ],
      "source": [
        "# Checking if the changes worked\n",
        "print(len(rows_to_drop))\n",
        "print(bird_strike_df.isnull().sum(axis=1).sort_values(ascending = False))"
      ]
    },
    {
      "cell_type": "code",
      "execution_count": 8,
      "metadata": {
        "id": "VG0RqmWTlS-s"
      },
      "outputs": [
        {
          "name": "stdout",
          "output_type": "stream",
          "text": [
            "<class 'pandas.core.frame.DataFrame'>\n",
            "RangeIndex: 255957 entries, 0 to 255956\n",
            "Data columns (total 69 columns):\n",
            " #   Column             Non-Null Count   Dtype  \n",
            "---  ------             --------------   -----  \n",
            " 0   INDEX_NR           255957 non-null  int64  \n",
            " 1   INCIDENT_DATE      255957 non-null  object \n",
            " 2   INCIDENT_MONTH     255957 non-null  int64  \n",
            " 3   INCIDENT_YEAR      255957 non-null  int64  \n",
            " 4   AIRPORT_ID         255957 non-null  object \n",
            " 5   AIRPORT            255957 non-null  object \n",
            " 6   LATITUDE           223579 non-null  float64\n",
            " 7   LONGITUDE          223578 non-null  float64\n",
            " 8   RUNWAY             194617 non-null  object \n",
            " 9   STATE              223579 non-null  object \n",
            " 10  FAAREGION          223579 non-null  object \n",
            " 11  OPID               255955 non-null  object \n",
            " 12  OPERATOR           255957 non-null  object \n",
            " 13  AIRCRAFT           255957 non-null  object \n",
            " 14  AMA                202688 non-null  object \n",
            " 15  AC_CLASS           204027 non-null  object \n",
            " 16  AC_MASS            203730 non-null  float64\n",
            " 17  TYPE_ENG           203355 non-null  object \n",
            " 18  NUM_ENGS           203566 non-null  float64\n",
            " 19  ENG_1_POS          203048 non-null  float64\n",
            " 20  INGESTED_OTHER     255957 non-null  bool   \n",
            " 21  INDICATED_DAMAGE   255957 non-null  bool   \n",
            " 22  STR_RAD            255957 non-null  bool   \n",
            " 23  DAM_RAD            255957 non-null  bool   \n",
            " 24  STR_WINDSHLD       255957 non-null  bool   \n",
            " 25  DAM_WINDSHLD       255957 non-null  bool   \n",
            " 26  STR_NOSE           255957 non-null  bool   \n",
            " 27  DAM_NOSE           255957 non-null  bool   \n",
            " 28  STR_ENG1           255957 non-null  bool   \n",
            " 29  DAM_ENG1           255957 non-null  bool   \n",
            " 30  ING_ENG1           255957 non-null  bool   \n",
            " 31  STR_ENG2           255957 non-null  bool   \n",
            " 32  DAM_ENG2           255957 non-null  bool   \n",
            " 33  ING_ENG2           255957 non-null  bool   \n",
            " 34  STR_ENG3           255957 non-null  bool   \n",
            " 35  DAM_ENG3           255957 non-null  bool   \n",
            " 36  ING_ENG3           255957 non-null  bool   \n",
            " 37  STR_ENG4           255957 non-null  bool   \n",
            " 38  DAM_ENG4           255957 non-null  bool   \n",
            " 39  ING_ENG4           255957 non-null  bool   \n",
            " 40  STR_PROP           255957 non-null  bool   \n",
            " 41  DAM_PROP           255957 non-null  bool   \n",
            " 42  STR_WING_ROT       255957 non-null  bool   \n",
            " 43  DAM_WING_ROT       255957 non-null  bool   \n",
            " 44  STR_FUSE           255957 non-null  bool   \n",
            " 45  DAM_FUSE           255957 non-null  bool   \n",
            " 46  STR_LG             255957 non-null  bool   \n",
            " 47  DAM_LG             255957 non-null  bool   \n",
            " 48  STR_TAIL           255957 non-null  bool   \n",
            " 49  DAM_TAIL           255957 non-null  bool   \n",
            " 50  STR_LGHTS          255957 non-null  bool   \n",
            " 51  DAM_LGHTS          255957 non-null  bool   \n",
            " 52  STR_OTHER          255957 non-null  bool   \n",
            " 53  DAM_OTHER          255957 non-null  bool   \n",
            " 54  SPECIES_ID         255954 non-null  object \n",
            " 55  SPECIES            255957 non-null  object \n",
            " 56  REMARKS            235896 non-null  object \n",
            " 57  REMAINS_COLLECTED  255957 non-null  bool   \n",
            " 58  REMAINS_SENT       255957 non-null  bool   \n",
            " 59  WARNED             255957 non-null  object \n",
            " 60  NUM_STRUCK         255393 non-null  object \n",
            " 61  SIZE               233535 non-null  object \n",
            " 62  COMMENTS           211973 non-null  object \n",
            " 63  REPORTED_NAME      255957 non-null  object \n",
            " 64  REPORTED_TITLE     255957 non-null  object \n",
            " 65  SOURCE             255957 non-null  object \n",
            " 66  PERSON             235326 non-null  object \n",
            " 67  LUPDATE            255957 non-null  object \n",
            " 68  TRANSFER           255957 non-null  bool   \n",
            "dtypes: bool(37), float64(5), int64(3), object(24)\n",
            "memory usage: 71.5+ MB\n",
            "None\n"
          ]
        }
      ],
      "source": [
        "# Checking data types to see if any need to be changed\n",
        "info = bird_strike_df.info()\n",
        "print(info)"
      ]
    },
    {
      "cell_type": "code",
      "execution_count": 9,
      "metadata": {
        "id": "Kpq8wnOplTmE"
      },
      "outputs": [],
      "source": [
        "# Converting date columns to datetime\n",
        "bird_strike_df[\"INCIDENT_DATE\"] = pd.to_datetime(bird_strike_df[\"INCIDENT_DATE\"])\n",
        "bird_strike_df[\"LUPDATE\"] = pd.to_datetime(bird_strike_df[\"LUPDATE\"])\n",
        "\n",
        "# Converting some columns to integers\n",
        "for col in [\"NUM_ENGS\", \"ENG_1_POS\"]:\n",
        "    bird_strike_df[col] = pd.to_numeric(bird_strike_df[col]).astype(\"Int64\")"
      ]
    },
    {
      "cell_type": "markdown",
      "metadata": {
        "id": "bTKvQJrVg54z"
      },
      "source": [
        "## Question 3 — Perform Exploratory Data Analysis (40 pts)\n",
        "Perform an in-depth analysis by creating visualizations to understand the distribution and relationships within the data, while ensuring that your analysis and explanation of the results tell a story. It's important to select appropriate visualizations based on the type of data. Explain all results.\n",
        "\n",
        "1) Analyze the proportion of incidents that occur each year.\n",
        "\n",
        "2) Evaluate the distribution of bird strikes in each state and display the top 20 states.\n",
        "\n",
        "3) What is the most common bird species that are involved in bird strikes.\n",
        "\n",
        "4) Perform a comparative analysis of the annual aircraft damage for each phase of flight. Evaluate the results over the last 10 years to determine what patterns exist. Note: this requires a year over year analysis.\n",
        "\n",
        "5) Analyze the frequency of bird strike incidents that occur on a monthly basis over the last 10 years. Analyze the results to determine when these incidents are more prevalent.  This question requires you to drill deeper into the analysis to determine if the distribution has changed over the last 10 years. Note: this requires a year over year analysis.\n",
        "\n",
        "6) Perform ONE (1) additional analysis on the distribution. Ensure that you either : 1) perform a comparative analysis by evaluating 3 or more groups within the data or 2) perform a temporal analysis of the patterns over 10 or more years (this requires a year over year analysis of the patterns). Do not repeat any of the previous analysis.\n"
      ]
    },
    {
      "cell_type": "markdown",
      "metadata": {},
      "source": [
        "### 1. Analyze the proportion of incidents that occur each year."
      ]
    },
    {
      "cell_type": "code",
      "execution_count": null,
      "metadata": {},
      "outputs": [
        {
          "name": "stdout",
          "output_type": "stream",
          "text": [
            "Yearly Incident Proportion:\n",
            "    Year  Count  Proportion\n",
            "0   1990   1808    0.007064\n",
            "1   1991   2297    0.008974\n",
            "2   1992   2380    0.009298\n",
            "3   1993   2402    0.009384\n",
            "4   1994   2491    0.009732\n",
            "5   1995   2625    0.010256\n",
            "6   1996   2794    0.010916\n",
            "7   1997   3312    0.012940\n",
            "8   1998   3682    0.014385\n",
            "9   1999   5025    0.019632\n",
            "10  2000   5885    0.022992\n",
            "11  2001   5694    0.022246\n",
            "12  2002   6074    0.023731\n",
            "13  2003   5844    0.022832\n",
            "14  2004   6439    0.025157\n",
            "15  2005   7128    0.027848\n",
            "16  2006   7097    0.027727\n",
            "17  2007   7597    0.029681\n",
            "18  2008   7514    0.029356\n",
            "19  2009   9354    0.036545\n",
            "20  2010   9610    0.037545\n",
            "21  2011   9865    0.038542\n",
            "22  2012  10664    0.041663\n",
            "23  2013  11041    0.043136\n",
            "24  2014  13255    0.051786\n",
            "25  2015  13224    0.051665\n",
            "26  2016  12542    0.049000\n",
            "27  2017  13810    0.053954\n",
            "28  2018  15432    0.060291\n",
            "29  2019  12786    0.049954\n",
            "30  2020   7108    0.027770\n",
            "31  2021  10338    0.040390\n",
            "32  2022  11320    0.044226\n",
            "33  2023   7520    0.029380\n"
          ]
        }
      ],
      "source": [
        "yearly_incidents = bird_strike_df['INCIDENT_YEAR'].value_counts().sort_index()\n",
        "total_incidents = len(bird_strike_df)\n",
        "\n",
        "yearly_proportion = yearly_incidents / total_incidents\n",
        "\n",
        "yearly_analysis = pd.DataFrame({\n",
        "    'Year': yearly_proportion.index,\n",
        "    'Count': yearly_incidents.values,\n",
        "    'Proportion': yearly_proportion.values\n",
        "})\n",
        "\n",
        "print(\"Yearly Incident Proportion:\")\n",
        "print(yearly_analysis)"
      ]
    },
    {
      "cell_type": "code",
      "execution_count": 20,
      "metadata": {},
      "outputs": [],
      "source": [
        "import matplotlib.pyplot as plt\n",
        "import seaborn as sns"
      ]
    },
    {
      "cell_type": "code",
      "execution_count": 16,
      "metadata": {},
      "outputs": [
        {
          "data": {
            "image/png": "[encoded data removed]",
            "text/plain": [
              "<Figure size 1200x600 with 1 Axes>"
            ]
          },
          "metadata": {},
          "output_type": "display_data"
        }
      ],
      "source": [
        "plt.figure(figsize=(12, 6))\n",
        "plt.bar(yearly_analysis['Year'], yearly_analysis['Proportion'])\n",
        "plt.title('Proportion of Wildlife Strike Incidents by Year')\n",
        "plt.xlabel('Year')\n",
        "plt.ylabel('Proportion of Total Incidents')\n",
        "plt.tight_layout()\n",
        "plt.show()"
      ]
    },
    {
      "cell_type": "markdown",
      "metadata": {},
      "source": [
        "The data shows a clear upward trend in the proportion of wildlife strike incidents from 1990 to 2023. \n",
        "- There's a steady increase in wildlife strike incidents from 1990 to 2023.\n",
        "- 2018 was a peak year with the highest proportion of incidents.\n",
        "- There is a sharp drop in 2020, possibly due to COVID and reduced air travel."
      ]
    },
    {
      "cell_type": "markdown",
      "metadata": {},
      "source": [
        "### 2. Evaluate the distribution of bird strikes in each state and display the top 20 states."
      ]
    },
    {
      "cell_type": "code",
      "execution_count": 25,
      "metadata": {},
      "outputs": [
        {
          "name": "stdout",
          "output_type": "stream",
          "text": [
            "Top 20 States with the Most Bird Strikes:\n",
            "   State  Number of Strikes\n",
            "0     TX              21653\n",
            "1     CA              19115\n",
            "2     FL              17868\n",
            "3     NY              12312\n",
            "4     IL              10296\n",
            "5     CO               9885\n",
            "6     TN               7827\n",
            "7     PA               7629\n",
            "8     OH               7044\n",
            "9     NJ               6309\n",
            "10    MI               6144\n",
            "11    MO               6008\n",
            "12    KY               5801\n",
            "13    NC               5639\n",
            "14    GA               4788\n",
            "15    FN               4501\n",
            "16    HI               4329\n",
            "17    DC               4068\n",
            "18    LA               3737\n",
            "19    WA               3597\n"
          ]
        }
      ],
      "source": [
        "state_distribution = bird_strike_df['STATE'].value_counts().reset_index()\n",
        "state_distribution.columns = ['State', 'Number of Strikes']\n",
        "\n",
        "top_20_states = state_distribution.head(20)\n",
        "print(\"Top 20 States with the Most Bird Strikes:\")\n",
        "print(top_20_states)"
      ]
    },
    {
      "cell_type": "code",
      "execution_count": 24,
      "metadata": {},
      "outputs": [
        {
          "data": {
            "image/png": "[encoded data removed]",
            "text/plain": [
              "<Figure size 1200x800 with 1 Axes>"
            ]
          },
          "metadata": {},
          "output_type": "display_data"
        }
      ],
      "source": [
        "plt.figure(figsize=(12, 8))\n",
        "sns.barplot(x='State', y='Number of Strikes', data=top_20_states)\n",
        "plt.title('Top 20 States by Bird Strike Incidents')\n",
        "plt.xlabel('State')\n",
        "plt.ylabel('Number of Strikes')\n",
        "plt.tight_layout()\n",
        "plt.show()"
      ]
    },
    {
      "cell_type": "markdown",
      "metadata": {},
      "source": [
        "The results here indicate a geographic pattern in bird strike incidents. As we can see from the graph, Texas leads significantly, followed by California, then Florida. These three states make up a lot of land and also have multiple major airports. Other major travel hubs like New York and Illinois also have a lot of bird strike incidents. This graph shows that the number of bird strikes isn't evenly distributed across states, but is concentrated in regions with a lot of land and heavy air traffic."
      ]
    },
    {
      "cell_type": "markdown",
      "metadata": {},
      "source": [
        "### 3. What is the most common bird species that are involved in bird strikes."
      ]
    },
    {
      "cell_type": "code",
      "execution_count": 26,
      "metadata": {},
      "outputs": [
        {
          "name": "stdout",
          "output_type": "stream",
          "text": [
            "Top 10 Bird Species Involved in Strikes:\n",
            "            Bird Species  Number of Strikes\n",
            "0   Unknown bird - small              48068\n",
            "1  Unknown bird - medium              37806\n",
            "2           Unknown bird              22043\n",
            "3          Mourning dove              11345\n",
            "4           Barn swallow               7907\n",
            "5                  Gulls               7142\n",
            "6               Killdeer               6992\n",
            "7       American kestrel               6813\n",
            "8            Horned lark               6266\n",
            "9      European starling               5331\n"
          ]
        }
      ],
      "source": [
        "species_counts = bird_strike_df['SPECIES'].value_counts().reset_index()\n",
        "species_counts.columns = ['Bird Species', 'Number of Strikes']\n",
        "\n",
        "top_species = species_counts.head(10)\n",
        "print(\"Top 10 Bird Species Involved in Strikes:\")\n",
        "print(top_species)"
      ]
    },
    {
      "cell_type": "markdown",
      "metadata": {},
      "source": [
        "The most common bird species that are involved in bird strikes are unknown birds. This could potentially be because the birds in a bird strike are too damaged to identify. Among the birds that were identified, the most common bird to be involved in bird strikes is the Mourning dove."
      ]
    },
    {
      "cell_type": "markdown",
      "metadata": {},
      "source": [
        "### 4. Perform a comparative analysis of the annual aircraft damage for each phase of flight. Evaluate the results over the last 10 years to determine what patterns exist. Note: this requires a year over year analysis."
      ]
    },
    {
      "cell_type": "code",
      "execution_count": 38,
      "metadata": {},
      "outputs": [
        {
          "name": "stdout",
          "output_type": "stream",
          "text": [
            "\n",
            "Yearly Damage Analysis (2014-2023):\n",
            "INDICATED_DAMAGE  False  True \n",
            "INCIDENT_YEAR                 \n",
            "2014              12673    582\n",
            "2015              12613    611\n",
            "2016              11958    584\n",
            "2017              13145    665\n",
            "2018              14717    715\n",
            "2019              12050    736\n",
            "2020               6649    459\n",
            "2021               9697    641\n",
            "2022              10668    652\n",
            "2023               7152    368\n",
            "\n",
            "Percentage of Each Damage Type by Year:\n",
            "INDICATED_DAMAGE      False     True \n",
            "INCIDENT_YEAR                        \n",
            "2014              95.609204  4.390796\n",
            "2015              95.379613  4.620387\n",
            "2016              95.343645  4.656355\n",
            "2017              95.184649  4.815351\n",
            "2018              95.366770  4.633230\n",
            "2019              94.243704  5.756296\n",
            "2020              93.542487  6.457513\n",
            "2021              93.799574  6.200426\n",
            "2022              94.240283  5.759717\n",
            "2023              95.106383  4.893617\n",
            "\n",
            "Year-over-Year Percentage Change:\n",
            "INDICATED_DAMAGE      False      True \n",
            "INCIDENT_YEAR                         \n",
            "2014                    NaN        NaN\n",
            "2015              -0.473447   4.982818\n",
            "2016              -5.193055  -4.418985\n",
            "2017               9.926409  13.869863\n",
            "2018              11.958920   7.518797\n",
            "2019             -18.121900   2.937063\n",
            "2020             -44.821577 -37.635870\n",
            "2021              45.841480  39.651416\n",
            "2022              10.013406   1.716069\n",
            "2023             -32.958380 -43.558282\n"
          ]
        }
      ],
      "source": [
        "recent_years = range(2014, 2024)\n",
        "recent_data = bird_strike_df[bird_strike_df['INCIDENT_YEAR'].isin(recent_years)]\n",
        "\n",
        "yearly_damage = recent_data.groupby(['INCIDENT_YEAR', 'INDICATED_DAMAGE']).size().unstack(fill_value=0)\n",
        "\n",
        "print(\"\\nYearly Damage Analysis (2014-2023):\")\n",
        "print(yearly_damage)\n",
        "\n",
        "yearly_damage_pct = yearly_damage.div(yearly_damage.sum(axis=1), axis=0) * 100\n",
        "\n",
        "print(\"\\nPercentage of Each Damage Type by Year:\")\n",
        "print(yearly_damage_pct)\n",
        "\n",
        "yoy_percent_change = yearly_damage.pct_change() * 100\n",
        "print(\"\\nYear-over-Year Percentage Change:\")\n",
        "print(yoy_percent_change)"
      ]
    },
    {
      "cell_type": "code",
      "execution_count": 39,
      "metadata": {},
      "outputs": [
        {
          "data": {
            "text/plain": [
              "<Figure size 1400x800 with 0 Axes>"
            ]
          },
          "metadata": {},
          "output_type": "display_data"
        },
        {
          "data": {
            "image/png": "[encoded data removed]",
            "text/plain": [
              "<Figure size 640x480 with 1 Axes>"
            ]
          },
          "metadata": {},
          "output_type": "display_data"
        }
      ],
      "source": [
        "plt.figure(figsize=(14, 8))\n",
        "yearly_damage.plot(marker='o')\n",
        "plt.title('Aircraft Damage Incidents by Year (2014-2023)')\n",
        "plt.xlabel('Year')\n",
        "plt.ylabel('Number of Incidents')\n",
        "plt.grid(True, linestyle='--', alpha=0.7)\n",
        "plt.legend(title='Damage Type')\n",
        "plt.tight_layout()\n",
        "plt.show()"
      ]
    },
    {
      "cell_type": "markdown",
      "metadata": {},
      "source": [
        "A vast majority of bird strikes did not result in aircraft damage. The number of aircraft damage incidents changes with air traffic volume, as we can see both damaging and non-damanging incidents drop during 2020, which was COVID and less air travel. However, the proportion of strikes causing damage remains relatively stable."
      ]
    },
    {
      "cell_type": "markdown",
      "metadata": {},
      "source": [
        "### 5. Analyze the frequency of bird strike incidents that occur on a monthly basis over the last 10 years. Analyze the results to determine when these incidents are more prevalent.  This question requires you to drill deeper into the analysis to determine if the distribution has changed over the last 10 years. Note: this requires a year over year analysis."
      ]
    },
    {
      "cell_type": "code",
      "execution_count": null,
      "metadata": {},
      "outputs": [],
      "source": []
    },
    {
      "cell_type": "markdown",
      "metadata": {
        "id": "oImGRoFcgVZq"
      },
      "source": [
        "## Helpful resources\n",
        "Don't forget to cite websites which helped you solve a problem in a unique way.  You can do this in markdown near the code or with a simple one-line comment inside the code cell, or you can list them below.\n",
        "\n",
        "You do not need to cite the official python documentation.\n"
      ]
    }
  ],
  "metadata": {
    "colab": {
      "provenance": []
    },
    "kernelspec": {
      "display_name": "Python 3",
      "language": "python",
      "name": "python3"
    },
    "language_info": {
      "codemirror_mode": {
        "name": "ipython",
        "version": 3
      },
      "file_extension": ".py",
      "mimetype": "text/x-python",
      "name": "python",
      "nbconvert_exporter": "python",
      "pygments_lexer": "ipython3",
      "version": "3.11.11"
    }
  },
  "nbformat": 4,
  "nbformat_minor": 0
}
