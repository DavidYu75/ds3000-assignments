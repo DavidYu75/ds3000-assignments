{
 "cells": [
  {
   "cell_type": "markdown",
   "metadata": {},
   "source": [
    "# DS 3000 - Assignment 4\n",
    "\n",
    "**Student Name**: David Yu\n",
    "\n",
    "**Date**: 1/31/25\n",
    "\n",
    "\n",
    "### Submission Instructions\n",
    "Submit this `ipynb` file to canvas.\n",
    "\n",
    "The `ipynb` format stores outputs from the last time you ran the notebook.  (When you open a notebook it has the figures and outputs of the last time you ran it too).  To ensure that your submitted `ipynb` file represents your latest code, make sure to give a fresh run `Kernel > Restart & Run All` just before uploading the `ipynb` file to Canvas.\n",
    "\n",
    "### Academic Integrity\n",
    "\n",
    "**Writing your homework is an individual effort.**  You may discuss general python problems with other students but under no circumstances should you observe another student's code which was written for this assignment, from this year or past years.  Pop into office hours or DM us in MS Teams if you have a specific question about your work or if you would like another pair of eyes or talk through your code.\n",
    "\n",
    "Don't forget to cite websites which helped you solve a problem in a unique way.  You can do this in markdown near the code or with a simple one-line comment. You do not need to cite the official python documentation.\n",
    "\n",
    "**Documentation / style counts for credit**  Please refer to the Pep-8 style, to improve the readability and consistency of your Python code. For more information, read the following article [How to Write Beautiful Python Code With PEP 8](https://realpython.com/python-pep8/) or ask your TA's for tips.\n",
    "\n",
    "**NOTE:<span style='color:red'> Write python expressions to answer ALL questions below and ensure that you use the `print()` function to display the output.</span>** Each question should be answered in a new code cell. For example, your solution for question 1.1 should be in a different code cell from your solution for question 1.2."
   ]
  },
  {
   "cell_type": "markdown",
   "metadata": {},
   "source": [
    "## Question 1: Office of Addiction Services and Support chemical dependence treatment programs (50 pts)\n",
    "The Office of Addiction Services and Support publishes a dataset on reported admissions of people in certified chemical dependence treatment programs throughout New York State (NYS). This dataset includes the number of admissions to certified treatment programs aggregated by the program category, county of the program location, age group of client at admission, and the primary substance of abuse group. For more information about this program, visit the following website.\n",
    "\n",
    "(0 pts) Load the data directly from the url into a dataframe. Here is the link to the data: https://drive.google.com/uc?export=download&id=1aWQsq0fdL3SF-jyrVMpEAtHW9FFSF2xO."
   ]
  },
  {
   "cell_type": "code",
   "execution_count": 3,
   "metadata": {},
   "outputs": [],
   "source": [
    "import pandas as pd\n",
    "\n",
    "url = \"https://drive.google.com/uc?export=download&id=1aWQsq0fdL3SF-jyrVMpEAtHW9FFSF2xO\"\n",
    "df = pd.read_csv(url)"
   ]
  },
  {
   "cell_type": "markdown",
   "metadata": {},
   "source": [
    "## Question 2: \n",
    "(5 pts) Evaluate the dataset to determine if ALL variables are represented in their expected type. Convert variables to suitable data types (if needed) and perform at least one additional data preparation step. \n"
   ]
  },
  {
   "cell_type": "code",
   "execution_count": 4,
   "metadata": {},
   "outputs": [
    {
     "name": "stdout",
     "output_type": "stream",
     "text": [
      "   Year County of Program Location Program Category  \\\n",
      "0  2007                     Albany           Crisis   \n",
      "1  2007                     Albany           Crisis   \n",
      "2  2007                     Albany           Crisis   \n",
      "3  2007                     Albany           Crisis   \n",
      "4  2007                     Albany           Crisis   \n",
      "\n",
      "                     Service Type      Age Group Primary Substance Group  \\\n",
      "0  Medical Managed Detoxification       Under 18                  Heroin   \n",
      "1  Medical Managed Detoxification  18 through 24              All Others   \n",
      "2  Medical Managed Detoxification  18 through 24           Other Opioids   \n",
      "3  Medical Managed Detoxification  18 through 24                  Heroin   \n",
      "4  Medical Managed Detoxification  18 through 24                 Alcohol   \n",
      "\n",
      "   Admissions  \n",
      "0           4  \n",
      "1           2  \n",
      "2           6  \n",
      "3         132  \n",
      "4          35  \n",
      "<class 'pandas.core.frame.DataFrame'>\n",
      "RangeIndex: 99367 entries, 0 to 99366\n",
      "Data columns (total 7 columns):\n",
      " #   Column                      Non-Null Count  Dtype \n",
      "---  ------                      --------------  ----- \n",
      " 0   Year                        99367 non-null  int64 \n",
      " 1   County of Program Location  99367 non-null  object\n",
      " 2   Program Category            99367 non-null  object\n",
      " 3   Service Type                99367 non-null  object\n",
      " 4   Age Group                   99367 non-null  object\n",
      " 5   Primary Substance Group     99366 non-null  object\n",
      " 6   Admissions                  99367 non-null  int64 \n",
      "dtypes: int64(2), object(5)\n",
      "memory usage: 5.3+ MB\n"
     ]
    }
   ],
   "source": [
    "print(df.head())\n",
    "\n",
    "df.info()"
   ]
  },
  {
   "cell_type": "code",
   "execution_count": 11,
   "metadata": {},
   "outputs": [
    {
     "name": "stdout",
     "output_type": "stream",
     "text": [
      "\n",
      "Final Data Types:\n",
      "Year                             int16\n",
      "County of Program Location    category\n",
      "Program Category              category\n",
      "Service Type                  category\n",
      "Age Group                     category\n",
      "Primary Substance Group       category\n",
      "Admissions                       int32\n",
      "Age Group Clean               category\n",
      "dtype: object\n",
      "\n",
      "Missing Values After Cleaning:\n",
      "Year                          0\n",
      "County of Program Location    0\n",
      "Program Category              0\n",
      "Service Type                  0\n",
      "Age Group                     0\n",
      "Primary Substance Group       0\n",
      "Admissions                    0\n",
      "Age Group Clean               0\n",
      "dtype: int64\n",
      "\n",
      "Sample Age Group Conversion:\n",
      "        Age Group      Age Group Clean\n",
      "0        Under 18    Adolescent (0-17)\n",
      "1   18 through 24  Young Adult (18-24)\n",
      "5   25 through 34        Adult (25-34)\n",
      "10  35 through 44        Adult (35-44)\n",
      "14  45 through 54        Adult (45-54)\n",
      "18   55 and Older         Senior (55+)\n"
     ]
    }
   ],
   "source": [
    "# Clean categorical columns\n",
    "cat_cols = ['County of Program Location', 'Program Category', \n",
    "           'Service Type', 'Age Group', 'Primary Substance Group']\n",
    "\n",
    "# Strip whitespace and clean categorical values\n",
    "df[cat_cols] = df[cat_cols].apply(lambda x: x.str.strip())\n",
    "\n",
    "# Handle missing values\n",
    "df = df.dropna(subset=['Primary Substance Group'])\n",
    "\n",
    "# Convert data types\n",
    "df = df.astype({\n",
    "    'Year': 'int16',\n",
    "    'Admissions': 'int32',\n",
    "    'County of Program Location': 'category',\n",
    "    'Program Category': 'category',\n",
    "    'Service Type': 'category',\n",
    "    'Age Group': 'category',\n",
    "    'Primary Substance Group': 'category'\n",
    "})\n",
    "\n",
    "# Normalize age groups\n",
    "age_mapping = {\n",
    "    'Under 18': 'Adolescent (0-17)',\n",
    "    '18 through 24': 'Young Adult (18-24)',\n",
    "    '25 through 34': 'Adult (25-34)',\n",
    "    '35 through 44': 'Adult (35-44)',\n",
    "    '45 through 54': 'Adult (45-54)',\n",
    "    '55 and Older': 'Senior (55+)'\n",
    "}\n",
    "\n",
    "df['Age Group Clean'] = df['Age Group'].map(age_mapping).astype('category')\n",
    "\n",
    "# Check the results\n",
    "print(\"\\nFinal Data Types:\")\n",
    "print(df.dtypes)\n",
    "print(\"\\nMissing Values After Cleaning:\")\n",
    "print(df.isnull().sum())\n",
    "print(\"\\nSample Age Group Conversion:\")\n",
    "print(df[['Age Group', 'Age Group Clean']].drop_duplicates())\n"
   ]
  },
  {
   "cell_type": "markdown",
   "metadata": {},
   "source": []
  },
  {
   "cell_type": "markdown",
   "metadata": {},
   "source": [
    "## Helpful resources \n",
    "Don't forget to cite websites which helped you solve a problem in a unique way.  You can do this in markdown near the code or with a simple one-line comment inside the code cell, or you can list them below. \n",
    "\n",
    "You do not need to cite the official python documentation.\n"
   ]
  }
 ],
 "metadata": {
  "kernelspec": {
   "display_name": "Python 3",
   "language": "python",
   "name": "python3"
  },
  "language_info": {
   "codemirror_mode": {
    "name": "ipython",
    "version": 3
   },
   "file_extension": ".py",
   "mimetype": "text/x-python",
   "name": "python",
   "nbconvert_exporter": "python",
   "pygments_lexer": "ipython3",
   "version": "3.11.11"
  }
 },
 "nbformat": 4,
 "nbformat_minor": 4
}
