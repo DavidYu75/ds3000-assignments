{
  "cells": [
    {
      "cell_type": "code",
      "execution_count": 14,
      "id": "710900e2",
      "metadata": {
        "id": "710900e2"
      },
      "outputs": [],
      "source": [
        "import pandas as pd\n",
        "import datetime as dt\n",
        "import matplotlib.pyplot as plt\n",
        "import numpy as np"
      ]
    },
    {
      "cell_type": "markdown",
      "id": "m1ZWYxLeYsj0",
      "metadata": {
        "id": "m1ZWYxLeYsj0"
      },
      "source": [
        "Question 1 — The DS Problem\n",
        "\n",
        "In your own words, formulate the Data Science problem that you were given."
      ]
    },
    {
      "cell_type": "markdown",
      "id": "LZWbmdKLedN1",
      "metadata": {
        "id": "LZWbmdKLedN1"
      },
      "source": []
    },
    {
      "cell_type": "markdown",
      "id": "XTTlPLiHY4jf",
      "metadata": {
        "id": "XTTlPLiHY4jf"
      },
      "source": [
        "Question 2 — Prepare the Data (10 pts)\n",
        "\n",
        "- Evaluate the dataset to determine if ALL variables are represented in their expected type. Convert variables to suitable data types (if needed).\n",
        "- Analyze the data to determine what preprocessing steps are needed. Perform the required data preparation steps. At a minimum, ensure that you handle both missing and invalid values. Justify the approach that is taken to prepare the data for analysis.\n",
        "- At a high level, provide an overview of the dataset; prepare summary statistics and at least three visualizations to support your explanation. Note: the explanation and visualizations should be relevant to the DS Problem in question 1."
      ]
    },
    {
      "cell_type": "code",
      "execution_count": 3,
      "id": "53RgmQhGY73-",
      "metadata": {
        "colab": {
          "base_uri": "https://localhost:8080/",
          "height": 311
        },
        "id": "53RgmQhGY73-",
        "outputId": "8af4797c-7760-42a4-9d69-8d881622cf40"
      },
      "outputs": [
        {
          "name": "stdout",
          "output_type": "stream",
          "text": [
            "<class 'pandas.core.frame.DataFrame'>\n",
            "RangeIndex: 1897503 entries, 0 to 1897502\n",
            "Data columns (total 14 columns):\n",
            " #   Column        Dtype  \n",
            "---  ------        -----  \n",
            " 0   FL_DATE       object \n",
            " 1   CARRIER_CODE  object \n",
            " 2   TAIL_NUM      object \n",
            " 3   FL_NUM        int64  \n",
            " 4   ORIGIN        object \n",
            " 5   ORIGIN_ST     object \n",
            " 6   DEST          object \n",
            " 7   DEST_ST       object \n",
            " 8   DEP_TIME      float64\n",
            " 9   DEP_DELAY     float64\n",
            " 10  ARR_TIME      float64\n",
            " 11  ARR_DELAY     float64\n",
            " 12  ELAPSED_TIME  float64\n",
            " 13  DISTANCE      int64  \n",
            "dtypes: float64(5), int64(2), object(7)\n",
            "memory usage: 202.7+ MB\n",
            "None\n"
          ]
        }
      ],
      "source": [
        "flight_data = pd.read_csv('2019_ONTIME_REPORTING_FSW.csv')\n",
        "print(flight_data.info())"
      ]
    },
    {
      "cell_type": "code",
      "execution_count": 4,
      "id": "jLL3FyR7m4Ul",
      "metadata": {
        "colab": {
          "base_uri": "https://localhost:8080/"
        },
        "id": "jLL3FyR7m4Ul",
        "outputId": "14af4e68-4193-4660-dbf9-1fc64fde3199"
      },
      "outputs": [
        {
          "name": "stdout",
          "output_type": "stream",
          "text": [
            "      FL_DATE CARRIER_CODE TAIL_NUM  FL_NUM ORIGIN ORIGIN_ST DEST DEST_ST  \\\n",
            "0  2019-10-01           AA   N916NN    2311    TUS        AZ  ORD      IL   \n",
            "1  2019-10-01           AA   N733UW    2315    PHX        AZ  DEN      CO   \n",
            "2  2019-10-01           AA   N140AN    2318    DFW        TX  LAX      CA   \n",
            "3  2019-10-01           AA   N925AN    2325    SNA        CA  DFW      TX   \n",
            "4  2019-10-01           AA   N143AN    2328    ATL        GA  LAX      CA   \n",
            "\n",
            "   DEP_TIME  DEP_DELAY  ARR_TIME  ARR_DELAY  ELAPSED_TIME  DISTANCE  \n",
            "0     828.0        0.0    1353.0        0.0         205.0      1437  \n",
            "1    1907.0        0.0    2159.0        0.0         112.0       602  \n",
            "2    1904.0      104.0    2016.0      101.0         192.0      1235  \n",
            "3    1729.0        4.0    2215.0        3.0         166.0      1205  \n",
            "4     656.0        0.0     841.0        0.0         285.0      1947  \n",
            "FL_DATE             0\n",
            "CARRIER_CODE        0\n",
            "TAIL_NUM         4791\n",
            "FL_NUM              0\n",
            "ORIGIN              0\n",
            "ORIGIN_ST           0\n",
            "DEST                0\n",
            "DEST_ST             0\n",
            "DEP_TIME        26707\n",
            "DEP_DELAY       26715\n",
            "ARR_TIME        28244\n",
            "ARR_DELAY       31884\n",
            "ELAPSED_TIME    31884\n",
            "DISTANCE            0\n",
            "dtype: int64\n"
          ]
        }
      ],
      "source": [
        "print(flight_data.head())\n",
        "print(flight_data.isnull().sum())\n",
        "flight_data = flight_data.dropna()"
      ]
    },
    {
      "cell_type": "code",
      "execution_count": 5,
      "id": "9cBRD609eVXy",
      "metadata": {
        "colab": {
          "base_uri": "https://localhost:8080/",
          "height": 1000
        },
        "id": "9cBRD609eVXy",
        "outputId": "e9fa33ec-a9de-4adb-b0ec-edd032e7540a"
      },
      "outputs": [],
      "source": [
        "flight_data['FL_DATE'] = flight_data['FL_DATE'].astype('datetime64[s]')\n",
        "flight_data['CARRIER_CODE'] = flight_data['CARRIER_CODE'].astype('category')\n",
        "flight_data['TAIL_NUM'] = flight_data['TAIL_NUM'].astype('string')\n",
        "flight_data['ORIGIN'] = flight_data['ORIGIN'].astype('string')\n",
        "flight_data['ORIGIN_ST'] = flight_data['ORIGIN_ST'].astype('string')\n",
        "flight_data['DEST'] = flight_data['DEST'].astype('string')\n",
        "flight_data['DEST_ST'] = flight_data['DEST_ST'].astype('string')\n",
        "\n",
        "dep_time_list = []\n",
        "arr_time_list = []\n",
        "for time in flight_data['DEP_TIME']:\n",
        "  new_time = str(int(time))\n",
        "  new_time = new_time.zfill(4)\n",
        "  new_time = new_time[0] + new_time[1] + ':' + new_time[2] + new_time[3]\n",
        "  if new_time == '24:00':\n",
        "    new_time = '00:00'\n",
        "  new_time = dt.datetime.strptime(new_time, '%H:%M').time()\n",
        "  dep_time_list.append(new_time)\n",
        "\n",
        "for time in flight_data['ARR_TIME']:\n",
        "  new_time = str(int(time))\n",
        "  new_time = new_time.zfill(4)\n",
        "  new_time = new_time[0] + new_time[1] + ':' + new_time[2] + new_time[3]\n",
        "  if new_time == '24:00':\n",
        "    new_time = '00:00'\n",
        "  new_time = dt.datetime.strptime(new_time, '%H:%M').time()\n",
        "  arr_time_list.append(new_time)\n",
        "\n",
        "flight_data['DEP_TIME'] = dep_time_list\n",
        "flight_data['ARR_TIME'] = arr_time_list\n",
        "\n",
        "#flight_data['DEP_TIME'] = flight_data['DEP_TIME'].astype('datetime64[s]')\n",
        "#flight_data['ARR_TIME'] = flight_data['ARR_TIME'].astype('datetime64[s]')"
      ]
    },
    {
      "cell_type": "code",
      "execution_count": 6,
      "id": "RMHlQryWitVF",
      "metadata": {
        "colab": {
          "base_uri": "https://localhost:8080/"
        },
        "id": "RMHlQryWitVF",
        "outputId": "7d9e573a-c47e-49f9-c124-1fa07fa91f10"
      },
      "outputs": [
        {
          "name": "stdout",
          "output_type": "stream",
          "text": [
            "     FL_DATE CARRIER_CODE TAIL_NUM  FL_NUM ORIGIN ORIGIN_ST DEST DEST_ST  \\\n",
            "0 2019-10-01           AA   N916NN    2311    TUS        AZ  ORD      IL   \n",
            "1 2019-10-01           AA   N733UW    2315    PHX        AZ  DEN      CO   \n",
            "2 2019-10-01           AA   N140AN    2318    DFW        TX  LAX      CA   \n",
            "3 2019-10-01           AA   N925AN    2325    SNA        CA  DFW      TX   \n",
            "4 2019-10-01           AA   N143AN    2328    ATL        GA  LAX      CA   \n",
            "5 2019-10-01           AA   N816NN    2339    PHX        AZ  JFK      NY   \n",
            "6 2019-10-01           AA   N150NN    2349    LAX        CA  BOS      MA   \n",
            "7 2019-10-01           AA   N994AN    2354    LAX        CA  DFW      TX   \n",
            "8 2019-10-01           AA   N404AN    2361    LAX        CA  MCO      FL   \n",
            "9 2019-10-01           AA   N134AN    2364    ORD        IL  LAX      CA   \n",
            "\n",
            "   DEP_TIME  DEP_DELAY  ARR_TIME  ARR_DELAY  ELAPSED_TIME  DISTANCE  \n",
            "0  08:28:00        0.0  13:53:00        0.0         205.0      1437  \n",
            "1  19:07:00        0.0  21:59:00        0.0         112.0       602  \n",
            "2  19:04:00      104.0  20:16:00      101.0         192.0      1235  \n",
            "3  17:29:00        4.0  22:15:00        3.0         166.0      1205  \n",
            "4  06:56:00        0.0  08:41:00        0.0         285.0      1947  \n",
            "5  09:11:00        0.0  17:02:00        0.0         291.0      2153  \n",
            "6  21:49:00        0.0  05:59:00        0.0         310.0      2611  \n",
            "7  11:28:00        0.0  16:20:00        0.0         172.0      1235  \n",
            "8  07:54:00        0.0  15:46:00        0.0         292.0      2218  \n",
            "9  17:01:00        1.0  19:16:00        0.0         255.0      1744  \n"
          ]
        }
      ],
      "source": [
        "print(flight_data.head(10))"
      ]
    },
    {
      "cell_type": "markdown",
      "id": "ukUHjKesZFk7",
      "metadata": {
        "id": "ukUHjKesZFk7"
      },
      "source": [
        "Question 3 — (20 points)\n",
        "\n",
        "- Explore patterns in the region i.e. the 3 states (AZ, NV, CA). Determine which region has the most air traffic. Comment on your findings and visualize the results. Note: it's important to explain your rational for determining what is \"the most air traffic\". For example, are you evaluating the frequency of flights or total flight time. Justify your response.\n",
        "- For each region i.e. the 3 states (AZ, NV, CA), analyze the most popular outbound/destination airports. For example, if a flight originated in CA (at any of its airports), where do they often go? Comment on your findings and visualize the results for the top 5 destinations.\n",
        "- For each region, calculate the proportion* of flights from each airline/operator. Visualize the top 10 results. Explain the results.\n",
        " - *Hint: Don't forget that proportion is an explicit requirement."
      ]
    },
    {
      "cell_type": "code",
      "execution_count": null,
      "id": "fUBeenulZUqg",
      "metadata": {
        "id": "fUBeenulZUqg"
      },
      "outputs": [],
      "source": [
        "# Type code here"
      ]
    },
    {
      "cell_type": "markdown",
      "id": "C7NJJ9w8ZXm1",
      "metadata": {
        "id": "C7NJJ9w8ZXm1"
      },
      "source": [
        "Question 4 — (20 points)\n",
        "\n",
        "- Explore the carriers within the dataset and demonstrate at least TWO (2) patterns that you identified.\n",
        "- Analyze the minimum, maximum and average arrival and departure delays for each Airline/Carrier. Visualize the top 10 results. Explain the patterns in the delays and demonstrate: 1) which carriers are more prone to flight delays and 2) are the delays occurring more frequently in certain regions**?\n",
        " - **Tip: it is important to analyze the airlines across multiple airports and/or regions in order to conclude that they have a pattern of being late."
      ]
    },
    {
      "cell_type": "code",
      "execution_count": 15,
      "id": "upFS6HG2ZeBa",
      "metadata": {
        "id": "upFS6HG2ZeBa"
      },
      "outputs": [
        {
          "name": "stderr",
          "output_type": "stream",
          "text": [
            "/var/folders/7d/kwt0yt6x3c37s1k0wbtcbt0w0000gn/T/ipykernel_91163/2153054670.py:2: FutureWarning: The default of observed=False is deprecated and will be changed to True in a future version of pandas. Pass observed=False to retain current behavior or observed=True to adopt the future default and silence this warning.\n",
            "  regional_delays = flight_data.groupby(['CARRIER_CODE', 'ORIGIN_ST'])['ARR_DELAY'].mean().reset_index()\n"
          ]
        },
        {
          "data": {
            "image/png": "[encoded data removed]",
            "text/plain": [
              "<Figure size 1500x800 with 1 Axes>"
            ]
          },
          "metadata": {},
          "output_type": "display_data"
        },
        {
          "name": "stdout",
          "output_type": "stream",
          "text": [
            "\n",
            "Regional Delay Patterns:\n",
            "CARRIER_CODE ORIGIN_ST  ARR_DELAY\n",
            "          AA        AZ      11.48\n",
            "          AA        CA      14.31\n",
            "          AA        NV      16.48\n",
            "          AS        AZ       8.82\n",
            "          AS        CA      11.93\n",
            "          AS        NV      13.21\n",
            "          B6        AZ      24.28\n",
            "          B6        CA      14.70\n",
            "          B6        NV      20.51\n",
            "          DL        AZ       7.57\n",
            "          DL        CA      10.24\n",
            "          DL        NV       8.58\n",
            "          F9        AZ      11.67\n",
            "          F9        CA      18.85\n",
            "          F9        NV      20.08\n",
            "          NK        AZ      13.12\n",
            "          NK        CA      11.17\n",
            "          NK        NV      12.47\n",
            "          OO        AZ      10.91\n",
            "          OO        CA      15.03\n",
            "          OO        NV      15.19\n",
            "          UA        AZ      14.88\n",
            "          UA        CA      14.07\n",
            "          UA        NV      14.66\n",
            "          WN        AZ      10.04\n",
            "          WN        CA       8.90\n",
            "          WN        NV       9.84\n",
            "          YV        AZ      15.95\n",
            "          YV        CA      14.39\n",
            "          YV        NV      11.93\n"
          ]
        }
      ],
      "source": [
        "# Calculate average delays by carrier and region\n",
        "regional_delays = flight_data.groupby(['CARRIER_CODE', 'ORIGIN_ST'])['ARR_DELAY'].mean().reset_index()\n",
        "\n",
        "# Get the top 10 carriers by flight count from flight_data\n",
        "top_10_carriers = flight_data['CARRIER_CODE'].value_counts().head(10).reset_index()\n",
        "top_10_carriers.columns = ['CARRIER_CODE', 'Count']\n",
        "top_10_carrier_codes = top_10_carriers['CARRIER_CODE'].tolist()\n",
        "\n",
        "# Filter for only the top 10 carriers and specific regions of interest\n",
        "regional_patterns = regional_delays[\n",
        "    (regional_delays['CARRIER_CODE'].isin(top_10_carrier_codes)) & \n",
        "    (regional_delays['ORIGIN_ST'].isin(['CA', 'AZ', 'NV']))\n",
        "]\n",
        "\n",
        "# Create a bar plot for regional delays\n",
        "plt.figure(figsize=(15, 8))\n",
        "carriers = regional_patterns['CARRIER_CODE'].unique()\n",
        "states = ['CA', 'AZ', 'NV']\n",
        "x = np.arange(len(carriers))\n",
        "width = 0.25\n",
        "\n",
        "for i, state in enumerate(states):\n",
        "    state_data = regional_patterns[regional_patterns['ORIGIN_ST'] == state]\n",
        "    state_delays = [state_data[state_data['CARRIER_CODE'] == carrier]['ARR_DELAY'].values[0] \n",
        "                   if len(state_data[state_data['CARRIER_CODE'] == carrier]) > 0 else 0 \n",
        "                   for carrier in carriers]\n",
        "    plt.bar(x + i*width, state_delays, width, label=state)\n",
        "\n",
        "plt.xlabel('Carrier Code')\n",
        "plt.ylabel('Average Arrival Delay (minutes)')\n",
        "plt.title('Regional Delay Patterns by Carrier')\n",
        "plt.xticks(x + width, carriers, rotation=45)\n",
        "plt.legend()\n",
        "plt.tight_layout()\n",
        "\n",
        "# Show the plot\n",
        "plt.show()\n",
        "\n",
        "# Print summary of regional patterns\n",
        "print(\"\\nRegional Delay Patterns:\")\n",
        "print(regional_patterns.round(2).to_string(index=False))"
      ]
    },
    {
      "cell_type": "markdown",
      "id": "qXsUtFIlZg_b",
      "metadata": {
        "id": "qXsUtFIlZg_b"
      },
      "source": [
        "Question 5 — (30 points)\n",
        "\n",
        "- Evaluate which airlines have the best performance in the region. Display the top 10 airlines.\n",
        " - Note: it's important to explain your rational for determining \"the best performance\".\n",
        "- For each airline, ensure that you calculate their total flight hours for each month. Explain and visualize the results for the top 10 airlines.\n",
        " - Hint: the total flight hours is not equivalent to the frequency of flights, and ensure that you display the total hours and not the total minutes.\n"
      ]
    },
    {
      "cell_type": "code",
      "execution_count": null,
      "id": "977LAEwrZpbQ",
      "metadata": {
        "id": "977LAEwrZpbQ"
      },
      "outputs": [],
      "source": [
        "# Type code here"
      ]
    },
    {
      "cell_type": "markdown",
      "id": "IukjOJuvZu2D",
      "metadata": {
        "id": "IukjOJuvZu2D"
      },
      "source": [
        "Question 6 — (20 points)\n",
        "\n",
        "Select any THREE (3) aircraft***, and explore the data to analyze the following for each aircraft:\n",
        "\n",
        "- Indicate which airline operates the selected aircraft and where it often travels.\n",
        "- Arrival and departure delays at the airports where it traveled.\n",
        "- Create summary statistics on the distance traveled.\n",
        "Analyze all the results in 6.1-6.3 to identify any patterns that are evident. Explain your findings and visualize ALL results.\n",
        " - ***Note: the TAIL_NUM can help you to identify each unique aircraft."
      ]
    },
    {
      "cell_type": "code",
      "execution_count": 9,
      "id": "VqONZ2RXaJ1_",
      "metadata": {
        "id": "VqONZ2RXaJ1_"
      },
      "outputs": [
        {
          "name": "stdout",
          "output_type": "stream",
          "text": [
            "Aircraft N706SK is operated by carrier: OO\n",
            "Aircraft N726SK is operated by carrier: OO\n",
            "Aircraft N742SK is operated by carrier: OO\n"
          ]
        }
      ],
      "source": [
        "top_three_tail = flight_data['TAIL_NUM'].value_counts(ascending=False).head(3).reset_index()\n",
        "top_three_tail = list(top_three_tail['TAIL_NUM'])\n",
        "\n",
        "for tail in top_three_tail:\n",
        "  tail_numbers_df = flight_data[flight_data['TAIL_NUM'] == tail].copy()\n",
        "\n",
        "for tail in top_three_tail:\n",
        "    tail_numbers_df = flight_data[flight_data['TAIL_NUM'] == tail]\n",
        "    airline = tail_numbers_df['CARRIER_CODE'].iloc[0]\n",
        "    print(f\"Aircraft {tail} is operated by carrier: {airline}\")"
      ]
    },
    {
      "cell_type": "markdown",
      "id": "3DJDTntxaORL",
      "metadata": {
        "id": "3DJDTntxaORL"
      },
      "source": [
        "Question 7 — Summary\n",
        "\n",
        "Summarize the overall analysis and share THREE (3) key findings."
      ]
    }
  ],
  "metadata": {
    "colab": {
      "provenance": []
    },
    "kernelspec": {
      "display_name": "Python 3",
      "language": "python",
      "name": "python3"
    },
    "language_info": {
      "codemirror_mode": {
        "name": "ipython",
        "version": 3
      },
      "file_extension": ".py",
      "mimetype": "text/x-python",
      "name": "python",
      "nbconvert_exporter": "python",
      "pygments_lexer": "ipython3",
      "version": "3.11.11"
    }
  },
  "nbformat": 4,
  "nbformat_minor": 5
}
